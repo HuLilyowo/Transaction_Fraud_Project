{
 "cells": [
  {
   "cell_type": "markdown",
   "id": "3d08e18d",
   "metadata": {},
   "source": [
    "# Transaction Fraud Detectation Project -- De-duplication\n",
    "\n",
    "The 'card transactions.csv' is a very big dataset, if I try to conduct every process all in one Jupyter Notebook, it will cause my kernel to die. So I separate the steps into several notebooks and deal with the process one by one. And this notebook is for <b>de-duplication</b>.\n",
    "\n",
    "I found that the feature engineering part may create duplicate features, which will affect model predictions. Here is the code to remove duplicates from the generated features."
   ]
  },
  {
   "cell_type": "code",
   "execution_count": 1,
   "id": "fae6f46e",
   "metadata": {},
   "outputs": [],
   "source": [
    "import pandas as pd \n",
    "import numpy as np\n",
    "import datetime as dt\n",
    "import time\n",
    "import glob\n",
    "start_time = dt.datetime.now()\n",
    "%matplotlib inline"
   ]
  },
  {
   "cell_type": "code",
   "execution_count": 2,
   "id": "59ebc700",
   "metadata": {},
   "outputs": [
    {
     "data": {
      "text/plain": [
       "['output/3_3_8_counts_entities_03_Merch_description.csv',\n",
       " 'output/3_3_8_counts_entities_14_Card_Merch_des_zip.csv',\n",
       " 'output/3_3_8_counts_entities_01_Cardnum.csv',\n",
       " 'output/3_3_3_zip3_velocity_counts_and_days_since.csv',\n",
       " 'output/3_3_7_zip3_variability.csv',\n",
       " 'output/3_3_8_counts_entities_07_Card_Merch_description.csv',\n",
       " 'output/3_3_8_counts_entities_17_Card_Merch_num_des_zip.csv',\n",
       " 'output/3_3_7_variability.csv',\n",
       " 'output/3_3_8_counts_entities_08_Card_Merch_state.csv',\n",
       " 'output/3_3_8_counts_entities_19_Card_Merch_des_state_zip.csv',\n",
       " 'output/3_3_1_bf_law.csv',\n",
       " 'output/3_3_5_relative&daysince_vel.csv',\n",
       " 'output/3_3_3_velocity_counts_and_days_since.csv',\n",
       " 'output/3_3_8_counts_entities_18_Card_Merch_num_state_zip.csv',\n",
       " 'output/3_3_8_counts_entities_05_Merch_all_info.csv',\n",
       " 'output/3_3_8_counts_entities_09_Card_Merch_zip.csv',\n",
       " 'output/3_3_5_zip3_relative&daysince_vel.csv',\n",
       " 'output/3_3_8_counts_entities_12_Card_Merch_num_zip.csv',\n",
       " 'output/3_3_8_counts_entities_15_Card_Merch_state_zip.csv',\n",
       " 'output/3_3_8_counts_entities_02_Merchnum.csv',\n",
       " 'output/3_3_8_counts_entities_20_Card_Merch_all_info.csv',\n",
       " 'output/3_3_8_counts_entities_11_Card_Merch_num_state.csv',\n",
       " 'output/3_3_8_counts_entities_10_Card_Merch_num_des.csv',\n",
       " 'output/3_3_4_amount_var.csv',\n",
       " 'output/3_3_8_counts_entities_13_Card_Merch_des_state.csv',\n",
       " 'output/3_3_8_counts_entities_16_Card_Merch_num_des_state.csv',\n",
       " 'output/3_3_4_zip3_amount_var.csv',\n",
       " 'output/3_3_8_counts_entities_04_Merch_num_des.csv',\n",
       " 'output/3_3_8_counts_entities_06_Card_Merchnum.csv']"
      ]
     },
     "execution_count": 2,
     "metadata": {},
     "output_type": "execute_result"
    }
   ],
   "source": [
    "joined_files_3_ = glob.glob('output/3_3_*.csv')\n",
    "joined_files_3_"
   ]
  },
  {
   "cell_type": "code",
   "execution_count": 3,
   "id": "38e34fb7",
   "metadata": {},
   "outputs": [],
   "source": [
    "def duplicate_columns(frame):\n",
    "    groups = frame.columns.to_series().groupby(frame.dtypes).groups\n",
    "    dups = []\n",
    "    for t, v in groups.items():\n",
    "        dcols = frame[v].to_dict(orient=\"list\")\n",
    "\n",
    "        vs = list(dcols.values())\n",
    "        ks = list(dcols.keys())\n",
    "        lvs = len(vs)\n",
    "\n",
    "        for i in range(1, lvs+1):\n",
    "            for j in range(i+1,lvs+1):\n",
    "                if vs[-i] == vs[-j]: \n",
    "                    dups.append(ks[-i])\n",
    "                    break\n",
    "\n",
    "    return dups"
   ]
  },
  {
   "cell_type": "code",
   "execution_count": 4,
   "id": "4879f12f",
   "metadata": {},
   "outputs": [],
   "source": [
    "numvar = {}\n",
    "listvar = []\n",
    "\n",
    "def num_column_count(dataframe, name):\n",
    "    \n",
    "    global numvar, listvar\n",
    "    \n",
    "    numvars_new = len(dataframe.columns) - 2 # excluded 2 are record and fraud_label\n",
    "    numvar[name] = numvars_new\n",
    "    \n",
    "    listvar_new = dataframe.columns.to_list()[2:] # excluded 2 are record and fraud_label\n",
    "    listvar += listvar_new\n",
    "\n",
    "    print(\"from Dataframe: \" + name)\n",
    "    print(\"new variables:\", numvars_new,\"  total variables:\", sum(numvar.values()))"
   ]
  },
  {
   "cell_type": "code",
   "execution_count": 8,
   "id": "219d5223",
   "metadata": {
    "scrolled": true
   },
   "outputs": [
    {
     "name": "stderr",
     "output_type": "stream",
     "text": [
      "/var/folders/_l/blrtgl294gl19nj02vfrwr180000gn/T/ipykernel_11836/1715190757.py:5: UserWarning: DataFrame columns are not unique, some columns will be omitted.\n",
      "  dcols = frame[v].to_dict(orient=\"list\")\n"
     ]
    },
    {
     "name": "stdout",
     "output_type": "stream",
     "text": [
      "from Dataframe: 3_3_8_counts_entities_06_Card_Merchnum\n",
      "new variables: 35   total variables: 35\n",
      "Run time for 3_3_8_counts_entities_06_Card_Merchnum--------86.85s\n",
      "\n"
     ]
    },
    {
     "name": "stderr",
     "output_type": "stream",
     "text": [
      "/var/folders/_l/blrtgl294gl19nj02vfrwr180000gn/T/ipykernel_11836/1715190757.py:5: UserWarning: DataFrame columns are not unique, some columns will be omitted.\n",
      "  dcols = frame[v].to_dict(orient=\"list\")\n"
     ]
    },
    {
     "name": "stdout",
     "output_type": "stream",
     "text": [
      "from Dataframe: 3_3_8_counts_entities_04_Merch_num_des\n",
      "new variables: 23   total variables: 58\n",
      "Run time for 3_3_8_counts_entities_04_Merch_num_des--------76.08s\n",
      "\n"
     ]
    },
    {
     "name": "stderr",
     "output_type": "stream",
     "text": [
      "/var/folders/_l/blrtgl294gl19nj02vfrwr180000gn/T/ipykernel_11836/1715190757.py:5: UserWarning: DataFrame columns are not unique, some columns will be omitted.\n",
      "  dcols = frame[v].to_dict(orient=\"list\")\n",
      "/var/folders/_l/blrtgl294gl19nj02vfrwr180000gn/T/ipykernel_11836/1715190757.py:5: UserWarning: DataFrame columns are not unique, some columns will be omitted.\n",
      "  dcols = frame[v].to_dict(orient=\"list\")\n",
      "/var/folders/_l/blrtgl294gl19nj02vfrwr180000gn/T/ipykernel_11836/1715190757.py:5: UserWarning: DataFrame columns are not unique, some columns will be omitted.\n",
      "  dcols = frame[v].to_dict(orient=\"list\")\n"
     ]
    },
    {
     "name": "stdout",
     "output_type": "stream",
     "text": [
      "from Dataframe: 3_3_4_zip3_amount_var\n",
      "new variables: 49   total variables: 107\n",
      "Run time for 3_3_4_zip3_amount_var--------106.24s\n",
      "\n"
     ]
    },
    {
     "name": "stderr",
     "output_type": "stream",
     "text": [
      "/var/folders/_l/blrtgl294gl19nj02vfrwr180000gn/T/ipykernel_11836/1715190757.py:5: UserWarning: DataFrame columns are not unique, some columns will be omitted.\n",
      "  dcols = frame[v].to_dict(orient=\"list\")\n"
     ]
    },
    {
     "name": "stdout",
     "output_type": "stream",
     "text": [
      "from Dataframe: 3_3_8_counts_entities_16_Card_Merch_num_des_state\n",
      "new variables: 4   total variables: 111\n",
      "Run time for 3_3_8_counts_entities_16_Card_Merch_num_des_state--------93.78s\n",
      "\n"
     ]
    },
    {
     "name": "stderr",
     "output_type": "stream",
     "text": [
      "/var/folders/_l/blrtgl294gl19nj02vfrwr180000gn/T/ipykernel_11836/1715190757.py:5: UserWarning: DataFrame columns are not unique, some columns will be omitted.\n",
      "  dcols = frame[v].to_dict(orient=\"list\")\n"
     ]
    },
    {
     "name": "stdout",
     "output_type": "stream",
     "text": [
      "from Dataframe: 3_3_8_counts_entities_13_Card_Merch_des_state\n",
      "new variables: 18   total variables: 129\n",
      "Run time for 3_3_8_counts_entities_13_Card_Merch_des_state--------82.01s\n",
      "\n"
     ]
    },
    {
     "name": "stderr",
     "output_type": "stream",
     "text": [
      "/var/folders/_l/blrtgl294gl19nj02vfrwr180000gn/T/ipykernel_11836/1715190757.py:5: UserWarning: DataFrame columns are not unique, some columns will be omitted.\n",
      "  dcols = frame[v].to_dict(orient=\"list\")\n",
      "/var/folders/_l/blrtgl294gl19nj02vfrwr180000gn/T/ipykernel_11836/1715190757.py:5: UserWarning: DataFrame columns are not unique, some columns will be omitted.\n",
      "  dcols = frame[v].to_dict(orient=\"list\")\n"
     ]
    },
    {
     "name": "stdout",
     "output_type": "stream",
     "text": [
      "from Dataframe: 3_3_4_amount_var\n",
      "new variables: 1405   total variables: 1534\n",
      "Run time for 3_3_4_amount_var--------745.89s\n",
      "\n"
     ]
    },
    {
     "name": "stderr",
     "output_type": "stream",
     "text": [
      "/var/folders/_l/blrtgl294gl19nj02vfrwr180000gn/T/ipykernel_11836/1715190757.py:5: UserWarning: DataFrame columns are not unique, some columns will be omitted.\n",
      "  dcols = frame[v].to_dict(orient=\"list\")\n"
     ]
    },
    {
     "name": "stdout",
     "output_type": "stream",
     "text": [
      "from Dataframe: 3_3_8_counts_entities_10_Card_Merch_num_des\n",
      "new variables: 11   total variables: 1545\n",
      "Run time for 3_3_8_counts_entities_10_Card_Merch_num_des--------32.65s\n",
      "\n"
     ]
    },
    {
     "name": "stderr",
     "output_type": "stream",
     "text": [
      "/var/folders/_l/blrtgl294gl19nj02vfrwr180000gn/T/ipykernel_11836/1715190757.py:5: UserWarning: DataFrame columns are not unique, some columns will be omitted.\n",
      "  dcols = frame[v].to_dict(orient=\"list\")\n"
     ]
    },
    {
     "name": "stdout",
     "output_type": "stream",
     "text": [
      "from Dataframe: 3_3_8_counts_entities_11_Card_Merch_num_state\n",
      "new variables: 18   total variables: 1563\n",
      "Run time for 3_3_8_counts_entities_11_Card_Merch_num_state--------32.35s\n",
      "\n"
     ]
    },
    {
     "name": "stderr",
     "output_type": "stream",
     "text": [
      "/var/folders/_l/blrtgl294gl19nj02vfrwr180000gn/T/ipykernel_11836/1715190757.py:5: UserWarning: DataFrame columns are not unique, some columns will be omitted.\n",
      "  dcols = frame[v].to_dict(orient=\"list\")\n"
     ]
    },
    {
     "name": "stdout",
     "output_type": "stream",
     "text": [
      "from Dataframe: 3_3_8_counts_entities_20_Card_Merch_all_info\n",
      "new variables: 0   total variables: 1563\n",
      "Run time for 3_3_8_counts_entities_20_Card_Merch_all_info--------30.23s\n",
      "\n"
     ]
    },
    {
     "name": "stderr",
     "output_type": "stream",
     "text": [
      "/var/folders/_l/blrtgl294gl19nj02vfrwr180000gn/T/ipykernel_11836/1715190757.py:5: UserWarning: DataFrame columns are not unique, some columns will be omitted.\n",
      "  dcols = frame[v].to_dict(orient=\"list\")\n"
     ]
    },
    {
     "name": "stdout",
     "output_type": "stream",
     "text": [
      "from Dataframe: 3_3_8_counts_entities_02_Merchnum\n",
      "new variables: 53   total variables: 1616\n",
      "Run time for 3_3_8_counts_entities_02_Merchnum--------34.08s\n",
      "\n"
     ]
    },
    {
     "name": "stderr",
     "output_type": "stream",
     "text": [
      "/var/folders/_l/blrtgl294gl19nj02vfrwr180000gn/T/ipykernel_11836/1715190757.py:5: UserWarning: DataFrame columns are not unique, some columns will be omitted.\n",
      "  dcols = frame[v].to_dict(orient=\"list\")\n"
     ]
    },
    {
     "name": "stdout",
     "output_type": "stream",
     "text": [
      "from Dataframe: 3_3_8_counts_entities_15_Card_Merch_state_zip\n",
      "new variables: 18   total variables: 1634\n",
      "Run time for 3_3_8_counts_entities_15_Card_Merch_state_zip--------28.33s\n",
      "\n"
     ]
    },
    {
     "name": "stderr",
     "output_type": "stream",
     "text": [
      "/var/folders/_l/blrtgl294gl19nj02vfrwr180000gn/T/ipykernel_11836/1715190757.py:5: UserWarning: DataFrame columns are not unique, some columns will be omitted.\n",
      "  dcols = frame[v].to_dict(orient=\"list\")\n"
     ]
    },
    {
     "name": "stdout",
     "output_type": "stream",
     "text": [
      "from Dataframe: 3_3_8_counts_entities_12_Card_Merch_num_zip\n",
      "new variables: 13   total variables: 1647\n",
      "Run time for 3_3_8_counts_entities_12_Card_Merch_num_zip--------28.36s\n",
      "\n"
     ]
    },
    {
     "name": "stderr",
     "output_type": "stream",
     "text": [
      "/var/folders/_l/blrtgl294gl19nj02vfrwr180000gn/T/ipykernel_11836/1715190757.py:5: UserWarning: DataFrame columns are not unique, some columns will be omitted.\n",
      "  dcols = frame[v].to_dict(orient=\"list\")\n"
     ]
    },
    {
     "name": "stdout",
     "output_type": "stream",
     "text": [
      "from Dataframe: 3_3_5_zip3_relative&daysince_vel\n",
      "new variables: 8   total variables: 1655\n",
      "Run time for 3_3_5_zip3_relative&daysince_vel--------28.16s\n",
      "\n"
     ]
    },
    {
     "name": "stderr",
     "output_type": "stream",
     "text": [
      "/var/folders/_l/blrtgl294gl19nj02vfrwr180000gn/T/ipykernel_11836/1715190757.py:5: UserWarning: DataFrame columns are not unique, some columns will be omitted.\n",
      "  dcols = frame[v].to_dict(orient=\"list\")\n"
     ]
    },
    {
     "name": "stdout",
     "output_type": "stream",
     "text": [
      "from Dataframe: 3_3_8_counts_entities_09_Card_Merch_zip\n",
      "new variables: 34   total variables: 1689\n",
      "Run time for 3_3_8_counts_entities_09_Card_Merch_zip--------28.74s\n",
      "\n"
     ]
    },
    {
     "name": "stderr",
     "output_type": "stream",
     "text": [
      "/var/folders/_l/blrtgl294gl19nj02vfrwr180000gn/T/ipykernel_11836/1715190757.py:5: UserWarning: DataFrame columns are not unique, some columns will be omitted.\n",
      "  dcols = frame[v].to_dict(orient=\"list\")\n"
     ]
    },
    {
     "name": "stdout",
     "output_type": "stream",
     "text": [
      "from Dataframe: 3_3_8_counts_entities_05_Merch_all_info\n",
      "new variables: 6   total variables: 1695\n",
      "Run time for 3_3_8_counts_entities_05_Merch_all_info--------25.07s\n",
      "\n"
     ]
    },
    {
     "name": "stderr",
     "output_type": "stream",
     "text": [
      "/var/folders/_l/blrtgl294gl19nj02vfrwr180000gn/T/ipykernel_11836/1715190757.py:5: UserWarning: DataFrame columns are not unique, some columns will be omitted.\n",
      "  dcols = frame[v].to_dict(orient=\"list\")\n"
     ]
    },
    {
     "name": "stdout",
     "output_type": "stream",
     "text": [
      "from Dataframe: 3_3_8_counts_entities_18_Card_Merch_num_state_zip\n",
      "new variables: 6   total variables: 1701\n",
      "Run time for 3_3_8_counts_entities_18_Card_Merch_num_state_zip--------27.85s\n",
      "\n"
     ]
    },
    {
     "name": "stderr",
     "output_type": "stream",
     "text": [
      "/var/folders/_l/blrtgl294gl19nj02vfrwr180000gn/T/ipykernel_11836/1715190757.py:5: UserWarning: DataFrame columns are not unique, some columns will be omitted.\n",
      "  dcols = frame[v].to_dict(orient=\"list\")\n"
     ]
    },
    {
     "name": "stdout",
     "output_type": "stream",
     "text": [
      "from Dataframe: 3_3_3_velocity_counts_and_days_since\n",
      "new variables: 207   total variables: 1908\n",
      "Run time for 3_3_3_velocity_counts_and_days_since--------37.96s\n",
      "\n"
     ]
    },
    {
     "name": "stderr",
     "output_type": "stream",
     "text": [
      "/var/folders/_l/blrtgl294gl19nj02vfrwr180000gn/T/ipykernel_11836/1715190757.py:5: UserWarning: DataFrame columns are not unique, some columns will be omitted.\n",
      "  dcols = frame[v].to_dict(orient=\"list\")\n"
     ]
    },
    {
     "name": "stdout",
     "output_type": "stream",
     "text": [
      "from Dataframe: 3_3_5_relative&daysince_vel\n",
      "new variables: 244   total variables: 2152\n",
      "Run time for 3_3_5_relative&daysince_vel--------57.29s\n",
      "\n",
      "from Dataframe: 3_3_1_bf_law\n",
      "new variables: 39   total variables: 2191\n",
      "Run time for 3_3_1_bf_law--------22.54s\n",
      "\n",
      "from Dataframe: 3_3_8_counts_entities_19_Card_Merch_des_state_zip\n",
      "new variables: 3   total variables: 2194\n",
      "Run time for 3_3_8_counts_entities_19_Card_Merch_des_state_zip--------15.79s\n",
      "\n",
      "from Dataframe: 3_3_8_counts_entities_08_Card_Merch_state\n",
      "new variables: 42   total variables: 2236\n",
      "Run time for 3_3_8_counts_entities_08_Card_Merch_state--------16.79s\n",
      "\n",
      "from Dataframe: 3_3_7_variability\n",
      "new variables: 526   total variables: 2762\n",
      "Run time for 3_3_7_variability--------68.21s\n",
      "\n",
      "from Dataframe: 3_3_8_counts_entities_17_Card_Merch_num_des_zip\n",
      "new variables: 1   total variables: 2763\n",
      "Run time for 3_3_8_counts_entities_17_Card_Merch_num_des_zip--------4.86s\n",
      "\n",
      "from Dataframe: 3_3_8_counts_entities_07_Card_Merch_description\n",
      "new variables: 32   total variables: 2795\n",
      "Run time for 3_3_8_counts_entities_07_Card_Merch_description--------4.62s\n",
      "\n",
      "from Dataframe: 3_3_7_zip3_variability\n",
      "new variables: 18   total variables: 2813\n",
      "Run time for 3_3_7_zip3_variability--------4.48s\n",
      "\n",
      "from Dataframe: 3_3_3_zip3_velocity_counts_and_days_since\n",
      "new variables: 7   total variables: 2820\n",
      "Run time for 3_3_3_zip3_velocity_counts_and_days_since--------3.09s\n",
      "\n",
      "from Dataframe: 3_3_8_counts_entities_01_Cardnum\n",
      "new variables: 80   total variables: 2900\n",
      "Run time for 3_3_8_counts_entities_01_Cardnum--------4.13s\n",
      "\n",
      "from Dataframe: 3_3_8_counts_entities_14_Card_Merch_des_zip\n",
      "new variables: 10   total variables: 2910\n",
      "Run time for 3_3_8_counts_entities_14_Card_Merch_des_zip--------2.03s\n",
      "\n",
      "from Dataframe: 3_3_8_counts_entities_03_Merch_description\n",
      "new variables: 114   total variables: 3024\n",
      "Run time for 3_3_8_counts_entities_03_Merch_description--------1.99s\n",
      "\n",
      "Total run time:28.84min\n",
      "CPU times: user 17min 47s, sys: 7min 57s, total: 25min 44s\n",
      "Wall time: 28min 50s\n"
     ]
    }
   ],
   "source": [
    "%%time\n",
    "begin=time.time()\n",
    "\n",
    "number_of_file = len(joined_files_3_)\n",
    "\n",
    "for num_for_dedup in range(1, number_of_file + 1):\n",
    "    \n",
    "    st=time.time()\n",
    "\n",
    "    vars_prep_for_dedup = pd.read_csv(joined_files_3_[-num_for_dedup])\n",
    "    new_filepath = joined_files_3_[-num_for_dedup].replace(\"output\", \"output_dedup\").replace(\".csv\", \"_dedup.csv\")\n",
    "   \n",
    "    \n",
    "    for num_before in range(1 + num_for_dedup, number_of_file + 1):\n",
    "        \n",
    "        df_concated = pd.concat([pd.read_csv(joined_files_3_[-num_before]).iloc[:,2:],\n",
    "                                 vars_prep_for_dedup], axis = 1)\n",
    "        \n",
    "        dup_columns_name = duplicate_columns(df_concated)\n",
    "        del df_concated\n",
    "        \n",
    "        vars_prep_for_dedup.drop(dup_columns_name, axis=1, inplace=True, errors='ignore')\n",
    "        \n",
    "    vars_prep_for_dedup.to_csv(new_filepath, index=False)\n",
    "    \n",
    "    new_filename = new_filepath.replace(\"_dedup.csv\", \"\").split('/')[1] \n",
    "    num_column_count(vars_prep_for_dedup, new_filename)\n",
    "    \n",
    "    del vars_prep_for_dedup\n",
    "    print(f'Run time for {new_filename}--------{time.time()-st:0.2f}s', end='\\n\\n')\n",
    "\n",
    "print(f'Total run time:{(time.time()-begin)/60:0.2f}min')"
   ]
  },
  {
   "cell_type": "code",
   "execution_count": 9,
   "id": "5377cb92",
   "metadata": {
    "scrolled": true
   },
   "outputs": [
    {
     "data": {
      "text/html": [
       "<div>\n",
       "<style scoped>\n",
       "    .dataframe tbody tr th:only-of-type {\n",
       "        vertical-align: middle;\n",
       "    }\n",
       "\n",
       "    .dataframe tbody tr th {\n",
       "        vertical-align: top;\n",
       "    }\n",
       "\n",
       "    .dataframe thead th {\n",
       "        text-align: right;\n",
       "    }\n",
       "</style>\n",
       "<table border=\"1\" class=\"dataframe\">\n",
       "  <thead>\n",
       "    <tr style=\"text-align: right;\">\n",
       "      <th></th>\n",
       "      <th>filename</th>\n",
       "      <th>count_variables</th>\n",
       "    </tr>\n",
       "  </thead>\n",
       "  <tbody>\n",
       "    <tr>\n",
       "      <th>0</th>\n",
       "      <td>3_3_8_counts_entities_03_Merch_description</td>\n",
       "      <td>114.0</td>\n",
       "    </tr>\n",
       "    <tr>\n",
       "      <th>1</th>\n",
       "      <td>3_3_8_counts_entities_14_Card_Merch_des_zip</td>\n",
       "      <td>10.0</td>\n",
       "    </tr>\n",
       "    <tr>\n",
       "      <th>2</th>\n",
       "      <td>3_3_8_counts_entities_01_Cardnum</td>\n",
       "      <td>80.0</td>\n",
       "    </tr>\n",
       "    <tr>\n",
       "      <th>3</th>\n",
       "      <td>3_3_3_zip3_velocity_counts_and_days_since</td>\n",
       "      <td>7.0</td>\n",
       "    </tr>\n",
       "    <tr>\n",
       "      <th>4</th>\n",
       "      <td>3_3_7_zip3_variability</td>\n",
       "      <td>18.0</td>\n",
       "    </tr>\n",
       "    <tr>\n",
       "      <th>5</th>\n",
       "      <td>3_3_8_counts_entities_07_Card_Merch_description</td>\n",
       "      <td>32.0</td>\n",
       "    </tr>\n",
       "    <tr>\n",
       "      <th>6</th>\n",
       "      <td>3_3_8_counts_entities_17_Card_Merch_num_des_zip</td>\n",
       "      <td>1.0</td>\n",
       "    </tr>\n",
       "    <tr>\n",
       "      <th>7</th>\n",
       "      <td>3_3_7_variability</td>\n",
       "      <td>526.0</td>\n",
       "    </tr>\n",
       "    <tr>\n",
       "      <th>8</th>\n",
       "      <td>3_3_8_counts_entities_08_Card_Merch_state</td>\n",
       "      <td>42.0</td>\n",
       "    </tr>\n",
       "    <tr>\n",
       "      <th>9</th>\n",
       "      <td>3_3_8_counts_entities_19_Card_Merch_des_state_zip</td>\n",
       "      <td>3.0</td>\n",
       "    </tr>\n",
       "    <tr>\n",
       "      <th>10</th>\n",
       "      <td>3_3_1_bf_law</td>\n",
       "      <td>39.0</td>\n",
       "    </tr>\n",
       "    <tr>\n",
       "      <th>11</th>\n",
       "      <td>3_3_5_relative&amp;daysince_vel</td>\n",
       "      <td>244.0</td>\n",
       "    </tr>\n",
       "    <tr>\n",
       "      <th>12</th>\n",
       "      <td>3_3_3_velocity_counts_and_days_since</td>\n",
       "      <td>207.0</td>\n",
       "    </tr>\n",
       "    <tr>\n",
       "      <th>13</th>\n",
       "      <td>3_3_8_counts_entities_18_Card_Merch_num_state_zip</td>\n",
       "      <td>6.0</td>\n",
       "    </tr>\n",
       "    <tr>\n",
       "      <th>14</th>\n",
       "      <td>3_3_8_counts_entities_05_Merch_all_info</td>\n",
       "      <td>6.0</td>\n",
       "    </tr>\n",
       "    <tr>\n",
       "      <th>15</th>\n",
       "      <td>3_3_8_counts_entities_09_Card_Merch_zip</td>\n",
       "      <td>34.0</td>\n",
       "    </tr>\n",
       "    <tr>\n",
       "      <th>16</th>\n",
       "      <td>3_3_5_zip3_relative&amp;daysince_vel</td>\n",
       "      <td>8.0</td>\n",
       "    </tr>\n",
       "    <tr>\n",
       "      <th>17</th>\n",
       "      <td>3_3_8_counts_entities_12_Card_Merch_num_zip</td>\n",
       "      <td>13.0</td>\n",
       "    </tr>\n",
       "    <tr>\n",
       "      <th>18</th>\n",
       "      <td>3_3_8_counts_entities_15_Card_Merch_state_zip</td>\n",
       "      <td>18.0</td>\n",
       "    </tr>\n",
       "    <tr>\n",
       "      <th>19</th>\n",
       "      <td>3_3_8_counts_entities_02_Merchnum</td>\n",
       "      <td>53.0</td>\n",
       "    </tr>\n",
       "    <tr>\n",
       "      <th>20</th>\n",
       "      <td>3_3_8_counts_entities_20_Card_Merch_all_info</td>\n",
       "      <td>0.0</td>\n",
       "    </tr>\n",
       "    <tr>\n",
       "      <th>21</th>\n",
       "      <td>3_3_8_counts_entities_11_Card_Merch_num_state</td>\n",
       "      <td>18.0</td>\n",
       "    </tr>\n",
       "    <tr>\n",
       "      <th>22</th>\n",
       "      <td>3_3_8_counts_entities_10_Card_Merch_num_des</td>\n",
       "      <td>11.0</td>\n",
       "    </tr>\n",
       "    <tr>\n",
       "      <th>23</th>\n",
       "      <td>3_3_4_amount_var</td>\n",
       "      <td>1405.0</td>\n",
       "    </tr>\n",
       "    <tr>\n",
       "      <th>24</th>\n",
       "      <td>3_3_8_counts_entities_13_Card_Merch_des_state</td>\n",
       "      <td>18.0</td>\n",
       "    </tr>\n",
       "    <tr>\n",
       "      <th>25</th>\n",
       "      <td>3_3_8_counts_entities_16_Card_Merch_num_des_state</td>\n",
       "      <td>4.0</td>\n",
       "    </tr>\n",
       "    <tr>\n",
       "      <th>26</th>\n",
       "      <td>3_3_4_zip3_amount_var</td>\n",
       "      <td>49.0</td>\n",
       "    </tr>\n",
       "    <tr>\n",
       "      <th>27</th>\n",
       "      <td>3_3_8_counts_entities_04_Merch_num_des</td>\n",
       "      <td>23.0</td>\n",
       "    </tr>\n",
       "    <tr>\n",
       "      <th>28</th>\n",
       "      <td>3_3_8_counts_entities_06_Card_Merchnum</td>\n",
       "      <td>35.0</td>\n",
       "    </tr>\n",
       "    <tr>\n",
       "      <th>Total</th>\n",
       "      <td>NaN</td>\n",
       "      <td>3024.0</td>\n",
       "    </tr>\n",
       "  </tbody>\n",
       "</table>\n",
       "</div>"
      ],
      "text/plain": [
       "                                                filename  count_variables\n",
       "0             3_3_8_counts_entities_03_Merch_description            114.0\n",
       "1            3_3_8_counts_entities_14_Card_Merch_des_zip             10.0\n",
       "2                       3_3_8_counts_entities_01_Cardnum             80.0\n",
       "3              3_3_3_zip3_velocity_counts_and_days_since              7.0\n",
       "4                                 3_3_7_zip3_variability             18.0\n",
       "5        3_3_8_counts_entities_07_Card_Merch_description             32.0\n",
       "6        3_3_8_counts_entities_17_Card_Merch_num_des_zip              1.0\n",
       "7                                      3_3_7_variability            526.0\n",
       "8              3_3_8_counts_entities_08_Card_Merch_state             42.0\n",
       "9      3_3_8_counts_entities_19_Card_Merch_des_state_zip              3.0\n",
       "10                                          3_3_1_bf_law             39.0\n",
       "11                           3_3_5_relative&daysince_vel            244.0\n",
       "12                  3_3_3_velocity_counts_and_days_since            207.0\n",
       "13     3_3_8_counts_entities_18_Card_Merch_num_state_zip              6.0\n",
       "14               3_3_8_counts_entities_05_Merch_all_info              6.0\n",
       "15               3_3_8_counts_entities_09_Card_Merch_zip             34.0\n",
       "16                      3_3_5_zip3_relative&daysince_vel              8.0\n",
       "17           3_3_8_counts_entities_12_Card_Merch_num_zip             13.0\n",
       "18         3_3_8_counts_entities_15_Card_Merch_state_zip             18.0\n",
       "19                     3_3_8_counts_entities_02_Merchnum             53.0\n",
       "20          3_3_8_counts_entities_20_Card_Merch_all_info              0.0\n",
       "21         3_3_8_counts_entities_11_Card_Merch_num_state             18.0\n",
       "22           3_3_8_counts_entities_10_Card_Merch_num_des             11.0\n",
       "23                                      3_3_4_amount_var           1405.0\n",
       "24         3_3_8_counts_entities_13_Card_Merch_des_state             18.0\n",
       "25     3_3_8_counts_entities_16_Card_Merch_num_des_state              4.0\n",
       "26                                 3_3_4_zip3_amount_var             49.0\n",
       "27                3_3_8_counts_entities_04_Merch_num_des             23.0\n",
       "28                3_3_8_counts_entities_06_Card_Merchnum             35.0\n",
       "Total                                                NaN           3024.0"
      ]
     },
     "execution_count": 9,
     "metadata": {},
     "output_type": "execute_result"
    }
   ],
   "source": [
    "df_numvar = pd.DataFrame(numvar, index=[\"count_variables\"]).T.iloc[::-1].reset_index()\n",
    "df_numvar.loc['Total'] = df_numvar.sum(numeric_only=True)\n",
    "df_numvar.columns = ['filename', 'count_variables']\n",
    "\n",
    "df_numvar.to_csv('3_count_variables_dedup.csv')\n",
    "df_numvar"
   ]
  },
  {
   "cell_type": "code",
   "execution_count": 10,
   "id": "6388bf9e",
   "metadata": {
    "scrolled": true
   },
   "outputs": [
    {
     "data": {
      "text/html": [
       "<div>\n",
       "<style scoped>\n",
       "    .dataframe tbody tr th:only-of-type {\n",
       "        vertical-align: middle;\n",
       "    }\n",
       "\n",
       "    .dataframe tbody tr th {\n",
       "        vertical-align: top;\n",
       "    }\n",
       "\n",
       "    .dataframe thead th {\n",
       "        text-align: right;\n",
       "    }\n",
       "</style>\n",
       "<table border=\"1\" class=\"dataframe\">\n",
       "  <thead>\n",
       "    <tr style=\"text-align: right;\">\n",
       "      <th></th>\n",
       "      <th>variables</th>\n",
       "    </tr>\n",
       "  </thead>\n",
       "  <tbody>\n",
       "    <tr>\n",
       "      <th>0</th>\n",
       "      <td>Merch_description_unique_count_for_Card_Merch_...</td>\n",
       "    </tr>\n",
       "    <tr>\n",
       "      <th>1</th>\n",
       "      <td>Merch_description_unique_count_for_Card_Merch_...</td>\n",
       "    </tr>\n",
       "    <tr>\n",
       "      <th>2</th>\n",
       "      <td>Merch_description_unique_count_for_Card_Merch_...</td>\n",
       "    </tr>\n",
       "    <tr>\n",
       "      <th>3</th>\n",
       "      <td>Merch_description_unique_count_for_Card_Merch_...</td>\n",
       "    </tr>\n",
       "    <tr>\n",
       "      <th>4</th>\n",
       "      <td>Merch_description_unique_count_for_Card_Merch_...</td>\n",
       "    </tr>\n",
       "    <tr>\n",
       "      <th>...</th>\n",
       "      <td>...</td>\n",
       "    </tr>\n",
       "    <tr>\n",
       "      <th>3017</th>\n",
       "      <td>Card_Merchnum_unique_count_for_Merch_descripti...</td>\n",
       "    </tr>\n",
       "    <tr>\n",
       "      <th>3018</th>\n",
       "      <td>Card_Merchnum_unique_count_for_Merch_descripti...</td>\n",
       "    </tr>\n",
       "    <tr>\n",
       "      <th>3019</th>\n",
       "      <td>Card_Merchnum_unique_count_for_Merch_descripti...</td>\n",
       "    </tr>\n",
       "    <tr>\n",
       "      <th>3020</th>\n",
       "      <td>Card_Merchnum_unique_count_for_Merch_descripti...</td>\n",
       "    </tr>\n",
       "    <tr>\n",
       "      <th>3021</th>\n",
       "      <td>Card_Merchnum_unique_count_for_Merch_descripti...</td>\n",
       "    </tr>\n",
       "  </tbody>\n",
       "</table>\n",
       "<p>3022 rows × 1 columns</p>\n",
       "</div>"
      ],
      "text/plain": [
       "                                              variables\n",
       "0     Merch_description_unique_count_for_Card_Merch_...\n",
       "1     Merch_description_unique_count_for_Card_Merch_...\n",
       "2     Merch_description_unique_count_for_Card_Merch_...\n",
       "3     Merch_description_unique_count_for_Card_Merch_...\n",
       "4     Merch_description_unique_count_for_Card_Merch_...\n",
       "...                                                 ...\n",
       "3017  Card_Merchnum_unique_count_for_Merch_descripti...\n",
       "3018  Card_Merchnum_unique_count_for_Merch_descripti...\n",
       "3019  Card_Merchnum_unique_count_for_Merch_descripti...\n",
       "3020  Card_Merchnum_unique_count_for_Merch_descripti...\n",
       "3021  Card_Merchnum_unique_count_for_Merch_descripti...\n",
       "\n",
       "[3022 rows x 1 columns]"
      ]
     },
     "execution_count": 10,
     "metadata": {},
     "output_type": "execute_result"
    }
   ],
   "source": [
    "df_listvar = pd.DataFrame(listvar, columns = [\"variables\"]).drop_duplicates().iloc[::-1].reset_index(drop = True)\n",
    "\n",
    "df_listvar.to_csv('output_dedup/3_list_variables_dedup.csv')\n",
    "df_listvar"
   ]
  },
  {
   "cell_type": "code",
   "execution_count": 11,
   "id": "2adb9058",
   "metadata": {},
   "outputs": [],
   "source": [
    "bf_law = pd.read_csv('output_dedup/3_3_1_bf_law_dedup.csv')"
   ]
  },
  {
   "cell_type": "code",
   "execution_count": 12,
   "id": "7d701514",
   "metadata": {},
   "outputs": [],
   "source": [
    "# I didn't remove the attributes from my CSV file, they are in '3_3_1_bf_law.csv'\n",
    "# Because the attributes are unique, I can't remove them by de-duplicate codes\n",
    "# I'll manually remove them here by slicing the data frame\n",
    "bf_law = bf_law.iloc[:,[1,10,12,39,40]]"
   ]
  },
  {
   "cell_type": "code",
   "execution_count": 13,
   "id": "4b1609fa",
   "metadata": {},
   "outputs": [],
   "source": [
    "bf_law.to_csv('output_dedup/3_3_1_bf_law_dedup_remove_attri.csv', index = False)"
   ]
  },
  {
   "cell_type": "code",
   "execution_count": 14,
   "id": "3610b8f5",
   "metadata": {},
   "outputs": [
    {
     "name": "stdout",
     "output_type": "stream",
     "text": [
      "real total num of variables: 2988.0.\n"
     ]
    }
   ],
   "source": [
    "print('real total num of variables: {}.'.format(df_numvar.iloc[-1,1] - (41-5))) # 41 is the # of col in '3_3_1_bf_law_dedup.csv'"
   ]
  },
  {
   "cell_type": "code",
   "execution_count": 15,
   "id": "c61faa13",
   "metadata": {},
   "outputs": [
    {
     "name": "stdout",
     "output_type": "stream",
     "text": [
      "duration:  0:48:25.629342\n"
     ]
    }
   ],
   "source": [
    "print('duration: ',dt.datetime.now() - start_time)"
   ]
  }
 ],
 "metadata": {
  "kernelspec": {
   "display_name": "Python 3 (ipykernel)",
   "language": "python",
   "name": "python3"
  },
  "language_info": {
   "codemirror_mode": {
    "name": "ipython",
    "version": 3
   },
   "file_extension": ".py",
   "mimetype": "text/x-python",
   "name": "python",
   "nbconvert_exporter": "python",
   "pygments_lexer": "ipython3",
   "version": "3.9.7"
  },
  "toc": {
   "base_numbering": 1,
   "nav_menu": {},
   "number_sections": true,
   "sideBar": true,
   "skip_h1_title": false,
   "title_cell": "Table of Contents",
   "title_sidebar": "Contents",
   "toc_cell": false,
   "toc_position": {},
   "toc_section_display": true,
   "toc_window_display": false
  },
  "varInspector": {
   "cols": {
    "lenName": 16,
    "lenType": 16,
    "lenVar": 40
   },
   "kernels_config": {
    "python": {
     "delete_cmd_postfix": "",
     "delete_cmd_prefix": "del ",
     "library": "var_list.py",
     "varRefreshCmd": "print(var_dic_list())"
    },
    "r": {
     "delete_cmd_postfix": ") ",
     "delete_cmd_prefix": "rm(",
     "library": "var_list.r",
     "varRefreshCmd": "cat(var_dic_list()) "
    }
   },
   "types_to_exclude": [
    "module",
    "function",
    "builtin_function_or_method",
    "instance",
    "_Feature"
   ],
   "window_display": false
  }
 },
 "nbformat": 4,
 "nbformat_minor": 5
}
