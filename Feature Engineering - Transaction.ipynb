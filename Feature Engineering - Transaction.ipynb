{
 "cells": [
  {
   "cell_type": "markdown",
   "id": "1594177a",
   "metadata": {},
   "source": [
    "# Transaction Fraud Detectation Project -- Feature Engineering\n",
    "\n",
    "The 'card transactions.csv' is a very big dataset, if I try to conduct every process all in one Jupyter Notebook, it will cause my kernel to die. So I separate the steps into several notebooks and deal with the process one by one. And this notebook is for feature engineering.\n"
   ]
  },
  {
   "cell_type": "markdown",
   "id": "27157657",
   "metadata": {
    "id": "27157657"
   },
   "source": [
    "## Short Summary of Data Quality"
   ]
  },
  {
   "cell_type": "code",
   "execution_count": 2,
   "id": "9e3a8a8c",
   "metadata": {
    "id": "9e3a8a8c"
   },
   "outputs": [],
   "source": [
    "import pandas as pd \n",
    "import numpy as np\n",
    "import seaborn as sns\n",
    "import matplotlib.pyplot as plt\n",
    "import datetime as dt\n",
    "import calendar\n",
    "import time\n",
    "plt.style.use('ggplot')\n",
    "start_time = dt.datetime.now()\n",
    "%matplotlib inline\n",
    "np.set_printoptions(suppress = True)"
   ]
  },
  {
   "cell_type": "code",
   "execution_count": 172,
   "id": "cf4b486d",
   "metadata": {
    "colab": {
     "base_uri": "https://localhost:8080/"
    },
    "id": "cf4b486d",
    "outputId": "acf9c0b8-435d-49e2-b636-68f569c7550b"
   },
   "outputs": [
    {
     "name": "stdout",
     "output_type": "stream",
     "text": [
      "CPU times: user 157 ms, sys: 44.9 ms, total: 202 ms\n",
      "Wall time: 201 ms\n"
     ]
    },
    {
     "data": {
      "text/plain": [
       "(96753, 10)"
      ]
     },
     "execution_count": 172,
     "metadata": {},
     "output_type": "execute_result"
    }
   ],
   "source": [
    "%%time\n",
    "data = pd.read_csv('card transactions.csv')\n",
    "data = data.iloc[:,0:10] # delete empty cols\n",
    "data.shape"
   ]
  },
  {
   "cell_type": "code",
   "execution_count": 173,
   "id": "ff6f2d7d",
   "metadata": {
    "colab": {
     "base_uri": "https://localhost:8080/",
     "height": 206
    },
    "id": "ff6f2d7d",
    "outputId": "d66a955d-ca2b-48b8-f617-8a048babb04d"
   },
   "outputs": [
    {
     "data": {
      "text/html": [
       "<div>\n",
       "<style scoped>\n",
       "    .dataframe tbody tr th:only-of-type {\n",
       "        vertical-align: middle;\n",
       "    }\n",
       "\n",
       "    .dataframe tbody tr th {\n",
       "        vertical-align: top;\n",
       "    }\n",
       "\n",
       "    .dataframe thead th {\n",
       "        text-align: right;\n",
       "    }\n",
       "</style>\n",
       "<table border=\"1\" class=\"dataframe\">\n",
       "  <thead>\n",
       "    <tr style=\"text-align: right;\">\n",
       "      <th></th>\n",
       "      <th>Recnum</th>\n",
       "      <th>Cardnum</th>\n",
       "      <th>Date</th>\n",
       "      <th>Merchnum</th>\n",
       "      <th>Merch description</th>\n",
       "      <th>Merch state</th>\n",
       "      <th>Merch zip</th>\n",
       "      <th>Transtype</th>\n",
       "      <th>Amount</th>\n",
       "      <th>Fraud</th>\n",
       "    </tr>\n",
       "  </thead>\n",
       "  <tbody>\n",
       "    <tr>\n",
       "      <th>0</th>\n",
       "      <td>1</td>\n",
       "      <td>5142190439</td>\n",
       "      <td>1/1/10</td>\n",
       "      <td>5509006296254</td>\n",
       "      <td>FEDEX SHP 12/23/09 AB#</td>\n",
       "      <td>TN</td>\n",
       "      <td>38118.0</td>\n",
       "      <td>P</td>\n",
       "      <td>3.62</td>\n",
       "      <td>0</td>\n",
       "    </tr>\n",
       "    <tr>\n",
       "      <th>1</th>\n",
       "      <td>2</td>\n",
       "      <td>5142183973</td>\n",
       "      <td>1/1/10</td>\n",
       "      <td>61003026333</td>\n",
       "      <td>SERVICE MERCHANDISE #81</td>\n",
       "      <td>MA</td>\n",
       "      <td>1803.0</td>\n",
       "      <td>P</td>\n",
       "      <td>31.42</td>\n",
       "      <td>0</td>\n",
       "    </tr>\n",
       "    <tr>\n",
       "      <th>2</th>\n",
       "      <td>3</td>\n",
       "      <td>5142131721</td>\n",
       "      <td>1/1/10</td>\n",
       "      <td>4503082993600</td>\n",
       "      <td>OFFICE DEPOT #191</td>\n",
       "      <td>MD</td>\n",
       "      <td>20706.0</td>\n",
       "      <td>P</td>\n",
       "      <td>178.49</td>\n",
       "      <td>0</td>\n",
       "    </tr>\n",
       "    <tr>\n",
       "      <th>3</th>\n",
       "      <td>4</td>\n",
       "      <td>5142148452</td>\n",
       "      <td>1/1/10</td>\n",
       "      <td>5509006296254</td>\n",
       "      <td>FEDEX SHP 12/28/09 AB#</td>\n",
       "      <td>TN</td>\n",
       "      <td>38118.0</td>\n",
       "      <td>P</td>\n",
       "      <td>3.62</td>\n",
       "      <td>0</td>\n",
       "    </tr>\n",
       "    <tr>\n",
       "      <th>4</th>\n",
       "      <td>5</td>\n",
       "      <td>5142190439</td>\n",
       "      <td>1/1/10</td>\n",
       "      <td>5509006296254</td>\n",
       "      <td>FEDEX SHP 12/23/09 AB#</td>\n",
       "      <td>TN</td>\n",
       "      <td>38118.0</td>\n",
       "      <td>P</td>\n",
       "      <td>3.62</td>\n",
       "      <td>0</td>\n",
       "    </tr>\n",
       "  </tbody>\n",
       "</table>\n",
       "</div>"
      ],
      "text/plain": [
       "   Recnum     Cardnum    Date       Merchnum        Merch description  \\\n",
       "0       1  5142190439  1/1/10  5509006296254   FEDEX SHP 12/23/09 AB#   \n",
       "1       2  5142183973  1/1/10    61003026333  SERVICE MERCHANDISE #81   \n",
       "2       3  5142131721  1/1/10  4503082993600        OFFICE DEPOT #191   \n",
       "3       4  5142148452  1/1/10  5509006296254   FEDEX SHP 12/28/09 AB#   \n",
       "4       5  5142190439  1/1/10  5509006296254   FEDEX SHP 12/23/09 AB#   \n",
       "\n",
       "  Merch state  Merch zip Transtype  Amount  Fraud  \n",
       "0          TN    38118.0         P    3.62      0  \n",
       "1          MA     1803.0         P   31.42      0  \n",
       "2          MD    20706.0         P  178.49      0  \n",
       "3          TN    38118.0         P    3.62      0  \n",
       "4          TN    38118.0         P    3.62      0  "
      ]
     },
     "execution_count": 173,
     "metadata": {},
     "output_type": "execute_result"
    }
   ],
   "source": [
    "data.head()"
   ]
  },
  {
   "cell_type": "code",
   "execution_count": 174,
   "id": "ac3ef863",
   "metadata": {
    "id": "ac3ef863"
   },
   "outputs": [],
   "source": [
    "numerics = ['Date','Amount']\n",
    "categoricals = ['Recnum','Cardnum','Merchnum','Merch description',\n",
    "               'Merch state','Merch zip','Transtype','Fraud']"
   ]
  },
  {
   "cell_type": "code",
   "execution_count": 175,
   "id": "6c454314",
   "metadata": {
    "colab": {
     "base_uri": "https://localhost:8080/",
     "height": 300
    },
    "id": "6c454314",
    "outputId": "d3d99daf-f076-4c0b-fc39-f3d5ed39b6b9"
   },
   "outputs": [
    {
     "data": {
      "text/html": [
       "<div>\n",
       "<style scoped>\n",
       "    .dataframe tbody tr th:only-of-type {\n",
       "        vertical-align: middle;\n",
       "    }\n",
       "\n",
       "    .dataframe tbody tr th {\n",
       "        vertical-align: top;\n",
       "    }\n",
       "\n",
       "    .dataframe thead th {\n",
       "        text-align: right;\n",
       "    }\n",
       "</style>\n",
       "<table border=\"1\" class=\"dataframe\">\n",
       "  <thead>\n",
       "    <tr style=\"text-align: right;\">\n",
       "      <th></th>\n",
       "      <th>% Populated</th>\n",
       "      <th># Blank</th>\n",
       "      <th># Zeros</th>\n",
       "      <th># Unique Values</th>\n",
       "      <th>Most Common Value</th>\n",
       "    </tr>\n",
       "  </thead>\n",
       "  <tbody>\n",
       "    <tr>\n",
       "      <th>Recnum</th>\n",
       "      <td>100.00</td>\n",
       "      <td>0</td>\n",
       "      <td>0</td>\n",
       "      <td>96753</td>\n",
       "      <td>1</td>\n",
       "    </tr>\n",
       "    <tr>\n",
       "      <th>Cardnum</th>\n",
       "      <td>100.00</td>\n",
       "      <td>0</td>\n",
       "      <td>0</td>\n",
       "      <td>1645</td>\n",
       "      <td>5142148452.0</td>\n",
       "    </tr>\n",
       "    <tr>\n",
       "      <th>Merchnum</th>\n",
       "      <td>96.51</td>\n",
       "      <td>3375</td>\n",
       "      <td>231</td>\n",
       "      <td>13091</td>\n",
       "      <td>930090121224</td>\n",
       "    </tr>\n",
       "    <tr>\n",
       "      <th>Merch description</th>\n",
       "      <td>100.00</td>\n",
       "      <td>0</td>\n",
       "      <td>0</td>\n",
       "      <td>13126</td>\n",
       "      <td>GSA-FSS-ADV</td>\n",
       "    </tr>\n",
       "    <tr>\n",
       "      <th>Merch state</th>\n",
       "      <td>98.76</td>\n",
       "      <td>1195</td>\n",
       "      <td>0</td>\n",
       "      <td>227</td>\n",
       "      <td>TN</td>\n",
       "    </tr>\n",
       "    <tr>\n",
       "      <th>Merch zip</th>\n",
       "      <td>95.19</td>\n",
       "      <td>4656</td>\n",
       "      <td>0</td>\n",
       "      <td>4567</td>\n",
       "      <td>38118.0</td>\n",
       "    </tr>\n",
       "    <tr>\n",
       "      <th>Transtype</th>\n",
       "      <td>100.00</td>\n",
       "      <td>0</td>\n",
       "      <td>0</td>\n",
       "      <td>4</td>\n",
       "      <td>P</td>\n",
       "    </tr>\n",
       "    <tr>\n",
       "      <th>Fraud</th>\n",
       "      <td>100.00</td>\n",
       "      <td>0</td>\n",
       "      <td>0</td>\n",
       "      <td>2</td>\n",
       "      <td>0.0</td>\n",
       "    </tr>\n",
       "  </tbody>\n",
       "</table>\n",
       "</div>"
      ],
      "text/plain": [
       "                   % Populated  # Blank  # Zeros  # Unique Values  \\\n",
       "Recnum                  100.00        0        0            96753   \n",
       "Cardnum                 100.00        0        0             1645   \n",
       "Merchnum                 96.51     3375      231            13091   \n",
       "Merch description       100.00        0        0            13126   \n",
       "Merch state              98.76     1195        0              227   \n",
       "Merch zip                95.19     4656        0             4567   \n",
       "Transtype               100.00        0        0                4   \n",
       "Fraud                   100.00        0        0                2   \n",
       "\n",
       "                  Most Common Value  \n",
       "Recnum                            1  \n",
       "Cardnum                5142148452.0  \n",
       "Merchnum               930090121224  \n",
       "Merch description       GSA-FSS-ADV  \n",
       "Merch state                      TN  \n",
       "Merch zip                   38118.0  \n",
       "Transtype                         P  \n",
       "Fraud                           0.0  "
      ]
     },
     "execution_count": 175,
     "metadata": {},
     "output_type": "execute_result"
    }
   ],
   "source": [
    "categorical_data = data.loc[:,categoricals]\n",
    "populated2 = categorical_data.notna().mean()\n",
    "blank = categorical_data.isnull()\n",
    "zeros = categorical_data[categoricals] == '0' \n",
    "# 0 in text, not include dummy numeric 0 in field 'Fraud' \n",
    "# 0 in field 'Fraud' has its meaning so it's good to exclude it here\n",
    "unique = categorical_data.nunique(axis = 0)\n",
    "mode = categorical_data.mode().iloc[0,:]\n",
    "cate_summary = pd.DataFrame(data = {'% Populated':(populated2*100).round(2),\n",
    "                                    '# Blank': blank.sum(),\n",
    "                                    '# Zeros': zeros.sum(),\n",
    "                                    '# Unique Values':unique.round(2),\n",
    "                                    'Most Common Value':mode})\n",
    "cate_summary"
   ]
  },
  {
   "cell_type": "code",
   "execution_count": 176,
   "id": "f468cd7d",
   "metadata": {
    "colab": {
     "base_uri": "https://localhost:8080/",
     "height": 112
    },
    "id": "f468cd7d",
    "outputId": "db66d7a0-6ab4-49a1-c676-7ffe60dc4519"
   },
   "outputs": [
    {
     "data": {
      "text/html": [
       "<div>\n",
       "<style scoped>\n",
       "    .dataframe tbody tr th:only-of-type {\n",
       "        vertical-align: middle;\n",
       "    }\n",
       "\n",
       "    .dataframe tbody tr th {\n",
       "        vertical-align: top;\n",
       "    }\n",
       "\n",
       "    .dataframe thead th {\n",
       "        text-align: right;\n",
       "    }\n",
       "</style>\n",
       "<table border=\"1\" class=\"dataframe\">\n",
       "  <thead>\n",
       "    <tr style=\"text-align: right;\">\n",
       "      <th></th>\n",
       "      <th>% Populated</th>\n",
       "      <th># Blank</th>\n",
       "      <th># Zeros</th>\n",
       "      <th>Most Common Value</th>\n",
       "      <th>Min</th>\n",
       "      <th>Max</th>\n",
       "    </tr>\n",
       "  </thead>\n",
       "  <tbody>\n",
       "    <tr>\n",
       "      <th>Date</th>\n",
       "      <td>100.0</td>\n",
       "      <td>0</td>\n",
       "      <td>0</td>\n",
       "      <td>2010-02-28 00:00:00</td>\n",
       "      <td>2010-01-01 00:00:00</td>\n",
       "      <td>2010-12-31 00:00:00</td>\n",
       "    </tr>\n",
       "    <tr>\n",
       "      <th>Amount</th>\n",
       "      <td>100.0</td>\n",
       "      <td>0</td>\n",
       "      <td>0</td>\n",
       "      <td>3.62</td>\n",
       "      <td>0.01</td>\n",
       "      <td>3102045.53</td>\n",
       "    </tr>\n",
       "  </tbody>\n",
       "</table>\n",
       "</div>"
      ],
      "text/plain": [
       "        % Populated  # Blank  # Zeros    Most Common Value  \\\n",
       "Date          100.0        0        0  2010-02-28 00:00:00   \n",
       "Amount        100.0        0        0                 3.62   \n",
       "\n",
       "                        Min                  Max  \n",
       "Date    2010-01-01 00:00:00  2010-12-31 00:00:00  \n",
       "Amount                 0.01           3102045.53  "
      ]
     },
     "execution_count": 176,
     "metadata": {},
     "output_type": "execute_result"
    }
   ],
   "source": [
    "data['Date'] = pd.to_datetime(data['Date'])\n",
    "numeric_data = data.loc[:,numerics]\n",
    "populated2 = numeric_data.notna().mean()\n",
    "blank = numeric_data.isnull()\n",
    "zeros = numeric_data[numerics] == 0\n",
    "mode =  numeric_data.mode().iloc[0,:]\n",
    "num_summary = pd.DataFrame(data = {'% Populated':(populated2*100).round(2),\n",
    "                                    '# Blank': blank.sum(),\n",
    "                                    '# Zeros': zeros.sum(),\n",
    "                                    'Most Common Value': mode,\n",
    "                                    'Min': numeric_data[numerics].min(),\n",
    "                                    'Max': numeric_data[numerics].max()})\n",
    "num_summary"
   ]
  },
  {
   "cell_type": "markdown",
   "id": "07ec0960",
   "metadata": {
    "id": "07ec0960"
   },
   "source": [
    "## Data Cleaning"
   ]
  },
  {
   "cell_type": "markdown",
   "id": "263b7573",
   "metadata": {},
   "source": [
    "### Filtering"
   ]
  },
  {
   "cell_type": "code",
   "execution_count": 177,
   "id": "737979ad",
   "metadata": {},
   "outputs": [],
   "source": [
    "data_copy = data.copy()\n",
    "# We only need Transtype = 'P' (Purchase)\n",
    "data_copy  = data_copy[data_copy['Transtype'] == 'P']"
   ]
  },
  {
   "cell_type": "code",
   "execution_count": 178,
   "id": "1600454b",
   "metadata": {},
   "outputs": [
    {
     "data": {
      "text/plain": [
       "(96398, 10)"
      ]
     },
     "execution_count": 178,
     "metadata": {},
     "output_type": "execute_result"
    }
   ],
   "source": [
    "data_copy['Amount'].sort_values(ascending = False) # There is an outlier (index 52714) in amount, drop it\n",
    "data_copy.shape"
   ]
  },
  {
   "cell_type": "code",
   "execution_count": 179,
   "id": "9b26268e",
   "metadata": {},
   "outputs": [
    {
     "data": {
      "text/plain": [
       "(96397, 10)"
      ]
     },
     "execution_count": 179,
     "metadata": {},
     "output_type": "execute_result"
    }
   ],
   "source": [
    "data_copy = data_copy.drop(index = 52714, axis = 0)\n",
    "data_copy.shape"
   ]
  },
  {
   "cell_type": "markdown",
   "id": "0a7fea25",
   "metadata": {
    "id": "0a7fea25"
   },
   "source": [
    "### Fill in Missing Data (Imputation)"
   ]
  },
  {
   "cell_type": "code",
   "execution_count": 180,
   "id": "0831a2b8",
   "metadata": {
    "id": "0831a2b8"
   },
   "outputs": [],
   "source": [
    "# rename cols with space in it\n",
    "data_copy.rename(columns={'Merch description': 'Merch_description', \n",
    "                          'Merch state': 'Merch_state',\n",
    "                          'Merch zip': 'Merch_zip'}, inplace=True)"
   ]
  },
  {
   "cell_type": "markdown",
   "id": "d48557e0",
   "metadata": {
    "id": "d48557e0"
   },
   "source": [
    "#### Merch state"
   ]
  },
  {
   "cell_type": "code",
   "execution_count": 181,
   "id": "f751c5fc",
   "metadata": {
    "id": "f751c5fc"
   },
   "outputs": [],
   "source": [
    "empty_ms = data_copy[data_copy['Merch_state'].isna()]"
   ]
  },
  {
   "cell_type": "markdown",
   "id": "663ce074",
   "metadata": {
    "id": "663ce074"
   },
   "source": [
    "##### Missing Merch state with zip code"
   ]
  },
  {
   "cell_type": "code",
   "execution_count": 182,
   "id": "3cdcf93f",
   "metadata": {
    "colab": {
     "base_uri": "https://localhost:8080/"
    },
    "id": "3cdcf93f",
    "outputId": "0622aaf6-ee8f-4f7a-94c4-2b6c65a60dbd"
   },
   "outputs": [
    {
     "data": {
      "text/plain": [
       "array([  926.,   929.,  1400., 65132., 86899., 23080., 60528.,   934.,\n",
       "         902.,   738., 90805., 76302.,     9.,   914.,     6., 95461.,\n",
       "       50823.,     2., 48700.,   680.,     1.,   681.,   623.,   726.,\n",
       "         936., 12108.,   791.,   907.,   922.,   920.,     3.,   801.,\n",
       "           8., 31040., 38117., 41160.])"
      ]
     },
     "execution_count": 182,
     "metadata": {},
     "output_type": "execute_result"
    }
   ],
   "source": [
    "# does the record have a zip code?\n",
    "empty_ms_with_zp = empty_ms[empty_ms['Merch_zip'].notna()]\n",
    "empty_ms_with_zp.Merch_zip.unique()"
   ]
  },
  {
   "cell_type": "code",
   "execution_count": 183,
   "id": "eb460103",
   "metadata": {
    "colab": {
     "base_uri": "https://localhost:8080/"
    },
    "id": "eb460103",
    "outputId": "c4dc4a2f-c791-4a2b-c89a-2d74169b6476"
   },
   "outputs": [],
   "source": [
    "# pip install uszipcode"
   ]
  },
  {
   "cell_type": "code",
   "execution_count": 184,
   "id": "c3c29e3b",
   "metadata": {
    "colab": {
     "base_uri": "https://localhost:8080/"
    },
    "id": "c3c29e3b",
    "outputId": "852ed95d-47cd-4f82-ac9a-23cc25d240b4"
   },
   "outputs": [],
   "source": [
    "# I use uszipcode package to find out the representative location of those zipcodes\n",
    "from uszipcode import SearchEngine\n",
    "engine = SearchEngine()"
   ]
  },
  {
   "cell_type": "code",
   "execution_count": 185,
   "id": "f2d1b2f1",
   "metadata": {},
   "outputs": [
    {
     "data": {
      "text/plain": [
       "Int64Index([ 3258,  3262,  3540,  3642,  4969,  5229,  5636,  5900,  6030,\n",
       "             6136, 12152, 13558, 15019, 15124, 19330, 23374, 23490, 23620,\n",
       "            24185, 24226, 24283, 24297, 25271, 25442, 25487, 26816, 26922,\n",
       "            31712, 36538, 36789, 38034, 39023, 41267, 43466, 44407, 44563,\n",
       "            46054, 47198, 50127, 51057, 51883, 52186, 56632, 56943, 57296,\n",
       "            57661, 57794, 57981, 58138, 59094, 59270, 59479, 59582, 59825,\n",
       "            59832, 59908, 60003, 60035, 60168, 60207, 60243, 60338, 60596,\n",
       "            60901, 61417, 61430, 62420, 62657, 64882, 65084, 66157, 66182,\n",
       "            66252, 69422, 70551, 70588, 72400, 72447, 73628, 74805, 77608,\n",
       "            82782, 83272, 83425, 83454, 86405, 90259],\n",
       "           dtype='int64')"
      ]
     },
     "execution_count": 185,
     "metadata": {},
     "output_type": "execute_result"
    }
   ],
   "source": [
    "empty_ms_with_zp.index"
   ]
  },
  {
   "cell_type": "markdown",
   "id": "d78bb96f",
   "metadata": {},
   "source": [
    "Find out the representative location of each zip code. If we can match the zipcode to any location(state) in the US, fill the blank with that state. If the zipcode is not in the US, the function will report an error. Therefore, we use try-except here to avoid the error alarm and put those zip codes outside of the US into a list."
   ]
  },
  {
   "cell_type": "code",
   "execution_count": 186,
   "id": "85e5d2a1",
   "metadata": {
    "colab": {
     "base_uri": "https://localhost:8080/"
    },
    "id": "85e5d2a1",
    "outputId": "1e17584e-9cbb-431b-c73d-40ee3a1e7f20",
    "scrolled": true
   },
   "outputs": [
    {
     "name": "stdout",
     "output_type": "stream",
     "text": [
      "1400.0 is not in the USA.\n",
      "65132.0 is not in the USA.\n",
      "86899.0 is not in the USA.\n",
      "23080.0 is not in the USA.\n",
      "60528.0 is not in the USA.\n",
      "60528.0 is not in the USA.\n",
      "86899.0 is not in the USA.\n",
      "60528.0 is not in the USA.\n",
      "60528.0 is not in the USA.\n",
      "23080.0 is not in the USA.\n",
      "9.0 is not in the USA.\n",
      "6.0 is not in the USA.\n",
      "50823.0 is not in the USA.\n",
      "6.0 is not in the USA.\n",
      "2.0 is not in the USA.\n",
      "48700.0 is not in the USA.\n",
      "6.0 is not in the USA.\n",
      "86899.0 is not in the USA.\n",
      "48700.0 is not in the USA.\n",
      "1.0 is not in the USA.\n",
      "1.0 is not in the USA.\n",
      "2.0 is not in the USA.\n",
      "2.0 is not in the USA.\n",
      "3.0 is not in the USA.\n",
      "9.0 is not in the USA.\n",
      "9.0 is not in the USA.\n",
      "6.0 is not in the USA.\n",
      "2.0 is not in the USA.\n",
      "8.0 is not in the USA.\n",
      "9.0 is not in the USA.\n",
      "6.0 is not in the USA.\n"
     ]
    }
   ],
   "source": [
    "collect_outside_US = []\n",
    "for i in empty_ms_with_zp.index:\n",
    "    try:\n",
    "        zipcode = engine.by_zipcode(data_copy.loc[i,'Merch_zip'].astype(int))\n",
    "        data_copy.loc[i,'Merch_state'] = zipcode.state\n",
    "    except AttributeError:\n",
    "        collect_outside_US.append(i)\n",
    "        print('{} is not in the USA.'.format(data_copy.loc[i,'Merch_zip']))\n",
    "        pass"
   ]
  },
  {
   "cell_type": "code",
   "execution_count": 187,
   "id": "03e7e1b0",
   "metadata": {
    "colab": {
     "base_uri": "https://localhost:8080/"
    },
    "id": "03e7e1b0",
    "outputId": "3dccac77-8729-49c3-c1a6-c7edd785edad"
   },
   "outputs": [
    {
     "data": {
      "text/plain": [
       "964"
      ]
     },
     "execution_count": 187,
     "metadata": {},
     "output_type": "execute_result"
    }
   ],
   "source": [
    "data_copy['Merch_state'].isna().sum()"
   ]
  },
  {
   "cell_type": "markdown",
   "id": "981daa90",
   "metadata": {
    "id": "981daa90"
   },
   "source": [
    "##### Missing Merch state with zip code outside USA"
   ]
  },
  {
   "cell_type": "code",
   "execution_count": 188,
   "id": "fd1c2b2f",
   "metadata": {
    "id": "fd1c2b2f"
   },
   "outputs": [],
   "source": [
    "# Because we know the location is outside the US\n",
    "# We'll just fill in those missing values with 'Unknown'\n",
    "for i in collect_outside_US:\n",
    "    data_copy.loc[i,'Merch_state'] = 'Unknown'    "
   ]
  },
  {
   "cell_type": "code",
   "execution_count": 189,
   "id": "3ef63b53",
   "metadata": {
    "colab": {
     "base_uri": "https://localhost:8080/"
    },
    "id": "3ef63b53",
    "outputId": "60d353fd-7436-4718-c416-c24363e1a0a0"
   },
   "outputs": [
    {
     "data": {
      "text/plain": [
       "933"
      ]
     },
     "execution_count": 189,
     "metadata": {},
     "output_type": "execute_result"
    }
   ],
   "source": [
    "data_copy['Merch_state'].isna().sum()"
   ]
  },
  {
   "cell_type": "markdown",
   "id": "93ccc384",
   "metadata": {
    "id": "93ccc384"
   },
   "source": [
    "##### Missing Merch state without zip code"
   ]
  },
  {
   "cell_type": "code",
   "execution_count": 190,
   "id": "4c589e34",
   "metadata": {
    "id": "4c589e34"
   },
   "outputs": [],
   "source": [
    "# Using the Merch state of 'mode of Merch description' to replace all nan\n",
    "mode = data_copy['Merch_description'].mode().tolist()[0]\n",
    "state_mode = data_copy[data_copy['Merch_description'] == mode].iloc[0,5]\n",
    "empty_after_fill_ms = data_copy[data_copy['Merch_state'].isna()]\n",
    "for i in empty_after_fill_ms.index:\n",
    "    data_copy.loc[i,'Merch_state'] = state_mode"
   ]
  },
  {
   "cell_type": "code",
   "execution_count": 191,
   "id": "120f7505",
   "metadata": {
    "colab": {
     "base_uri": "https://localhost:8080/"
    },
    "id": "120f7505",
    "outputId": "264a6f62-23bd-4e1e-81e4-6b11a6474a5c"
   },
   "outputs": [
    {
     "data": {
      "text/plain": [
       "0"
      ]
     },
     "execution_count": 191,
     "metadata": {},
     "output_type": "execute_result"
    }
   ],
   "source": [
    "data_copy['Merch_state'].isna().sum()"
   ]
  },
  {
   "cell_type": "markdown",
   "id": "87533588",
   "metadata": {
    "id": "87533588"
   },
   "source": [
    "#### Merchnum"
   ]
  },
  {
   "cell_type": "code",
   "execution_count": 192,
   "id": "37c5125e",
   "metadata": {
    "colab": {
     "base_uri": "https://localhost:8080/"
    },
    "id": "37c5125e",
    "outputId": "1a3e5a54-6bdd-40bb-b920-3ee709281fd5"
   },
   "outputs": [
    {
     "name": "stdout",
     "output_type": "stream",
     "text": [
      "#NaN in Merchnum: 3251\n"
     ]
    }
   ],
   "source": [
    "# if Merchnum = '0', replace with NaN\n",
    "data_copy[data_copy['Merchnum'] == '0'] == True\n",
    "data_copy['Merchnum'].replace('0',np.nan,inplace=True)\n",
    "# test whether it change '0' into np.nan\n",
    "print('#NaN in Merchnum: {}'\\\n",
    "      .format(data_copy['Merchnum'].isna().sum()))"
   ]
  },
  {
   "cell_type": "code",
   "execution_count": 193,
   "id": "1e807d73",
   "metadata": {
    "id": "1e807d73"
   },
   "outputs": [],
   "source": [
    "# We have no clear clue for deciding the Merchant number, \n",
    "# so we will use the Merchnum of 'mode of Merch description' to replace all nan\n",
    "mode = data_copy['Merch_description'].mode().tolist()[0]\n",
    "num_mode = data_copy[data_copy['Merch_description'] == mode].iloc[0,3]\n",
    "empty_after_fill_mn = data_copy[data_copy['Merchnum'].isna()]\n",
    "for i in empty_after_fill_mn.index:\n",
    "    data_copy.loc[i,'Merchnum'] = num_mode"
   ]
  },
  {
   "cell_type": "code",
   "execution_count": 194,
   "id": "d86b4cdb",
   "metadata": {
    "colab": {
     "base_uri": "https://localhost:8080/"
    },
    "id": "d86b4cdb",
    "outputId": "be6a8035-c570-4778-bf2b-2c975ce32604"
   },
   "outputs": [
    {
     "data": {
      "text/plain": [
       "0"
      ]
     },
     "execution_count": 194,
     "metadata": {},
     "output_type": "execute_result"
    }
   ],
   "source": [
    "data_copy['Merchnum'].isna().sum()"
   ]
  },
  {
   "cell_type": "markdown",
   "id": "c8edf5aa",
   "metadata": {
    "id": "c8edf5aa"
   },
   "source": [
    "#### Merch zip"
   ]
  },
  {
   "cell_type": "code",
   "execution_count": 195,
   "id": "d82ea115",
   "metadata": {
    "id": "d82ea115"
   },
   "outputs": [],
   "source": [
    "# We will use the Merch zip of 'mode of Merch description' to replace all nan\n",
    "mode = data_copy['Merch_description'].mode().tolist()[0]\n",
    "zip_mode = data_copy[data_copy['Merch_description'] == mode].iloc[0,6]\n",
    "empty_after_fill_mz = data_copy[data_copy['Merch_zip'].isna()]\n",
    "for i in empty_after_fill_mz.index:\n",
    "    data_copy.loc[i,'Merch_zip'] = zip_mode"
   ]
  },
  {
   "cell_type": "code",
   "execution_count": 196,
   "id": "fcbf1ecc",
   "metadata": {
    "colab": {
     "base_uri": "https://localhost:8080/"
    },
    "id": "fcbf1ecc",
    "outputId": "a975a42b-2dca-47aa-dc42-64d41f8c27af"
   },
   "outputs": [
    {
     "data": {
      "text/plain": [
       "0"
      ]
     },
     "execution_count": 196,
     "metadata": {},
     "output_type": "execute_result"
    }
   ],
   "source": [
    "data_copy['Merch_zip'].isna().sum()"
   ]
  },
  {
   "cell_type": "code",
   "execution_count": 197,
   "id": "be5efc65",
   "metadata": {
    "colab": {
     "base_uri": "https://localhost:8080/"
    },
    "id": "be5efc65",
    "outputId": "1ac86b4b-ebd6-4ec9-b2bc-1de291c1b5ef"
   },
   "outputs": [
    {
     "data": {
      "text/plain": [
       "Recnum               0\n",
       "Cardnum              0\n",
       "Date                 0\n",
       "Merchnum             0\n",
       "Merch_description    0\n",
       "Merch_state          0\n",
       "Merch_zip            0\n",
       "Transtype            0\n",
       "Amount               0\n",
       "Fraud                0\n",
       "dtype: int64"
      ]
     },
     "execution_count": 197,
     "metadata": {},
     "output_type": "execute_result"
    }
   ],
   "source": [
    "data_copy.isna().sum()"
   ]
  },
  {
   "cell_type": "code",
   "execution_count": 198,
   "id": "72152950",
   "metadata": {
    "id": "72152950"
   },
   "outputs": [],
   "source": [
    "# keep a copy of the cleaned data just in case\n",
    "data_copy.to_csv('cleaned_data.csv',index = False)"
   ]
  },
  {
   "cell_type": "markdown",
   "id": "8fa403db",
   "metadata": {
    "id": "8fa403db"
   },
   "source": [
    "## Make Variables"
   ]
  },
  {
   "cell_type": "code",
   "execution_count": 10,
   "id": "ZySKvWdEz2Xa",
   "metadata": {
    "id": "ZySKvWdEz2Xa"
   },
   "outputs": [],
   "source": [
    "data = pd.read_csv('cleaned_data.csv')"
   ]
  },
  {
   "cell_type": "code",
   "execution_count": 22,
   "id": "5f9acbf9",
   "metadata": {
    "colab": {
     "base_uri": "https://localhost:8080/"
    },
    "id": "5f9acbf9",
    "outputId": "4e3d92b7-0273-406b-91a9-40b33d97ffcf"
   },
   "outputs": [
    {
     "data": {
      "text/plain": [
       "Recnum                        int64\n",
       "Cardnum                      object\n",
       "Date                 datetime64[ns]\n",
       "Merchnum                     object\n",
       "Merch_description            object\n",
       "Merch_state                  object\n",
       "Merch_zip                    object\n",
       "Transtype                    object\n",
       "Amount                      float64\n",
       "Fraud                         int64\n",
       "zip3                         object\n",
       "dtype: object"
      ]
     },
     "execution_count": 22,
     "metadata": {},
     "output_type": "execute_result"
    }
   ],
   "source": [
    "# Data Preparation\n",
    "# Convert date\n",
    "data['Date'] = pd.to_datetime(data['Date'])\n",
    "# Make data from categorical field to be strings\n",
    "data['Cardnum'] = data['Cardnum'].astype(str)\n",
    "data['Merchnum'] = data['Merchnum'].astype(str)\n",
    "data['Merch_description'] = data['Merch_description'].astype(str)\n",
    "data['Merch_state'] = data['Merch_state'].astype(str)\n",
    "data['Merch_zip'] = data['Merch_zip'].astype(str)\n",
    "#right alignment\n",
    "data['Cardnum']=data['Cardnum'].apply(lambda x:'{0:0>10}'.format(x))\n",
    "data['Merch_zip']=data['Merch_zip'].apply(lambda x:'{0:0>5}'.format(x))\n",
    "data['Merchnum']=data['Merchnum'].apply(lambda x:'{0:0>13}'.format(x))\n",
    "\n",
    "data.dtypes"
   ]
  },
  {
   "cell_type": "markdown",
   "id": "117945c8",
   "metadata": {},
   "source": [
    "Notification:<br>\n",
    "I added 'zip3' as a new attribute after I ran everything in this notebook. It took hours to run it, and easy to cause my kernel to die. So for each feature generation cell, I have a code to save all the generated features in a CSV file right after they are created. Therefore, I just need to run the code for 'zip3' only. So the output in the notebook for now is for 'zip3' only. I'll show which codes need to be changed if I did include 'zip3' during the first run."
   ]
  },
  {
   "cell_type": "code",
   "execution_count": 26,
   "id": "76791aa1",
   "metadata": {},
   "outputs": [
    {
     "data": {
      "text/plain": [
       "Recnum                        int64\n",
       "Cardnum                      object\n",
       "Date                 datetime64[ns]\n",
       "Merchnum                     object\n",
       "Merch_description            object\n",
       "Merch_state                  object\n",
       "Merch_zip                    object\n",
       "Transtype                    object\n",
       "Amount                      float64\n",
       "Fraud                         int64\n",
       "zip3                         object\n",
       "dtype: object"
      ]
     },
     "execution_count": 26,
     "metadata": {},
     "output_type": "execute_result"
    }
   ],
   "source": [
    "data['zip3'] = data['Merch_zip'].str.slice(2,5)\n",
    "data.dtypes"
   ]
  },
  {
   "cell_type": "markdown",
   "id": "ab5fcbe6",
   "metadata": {
    "id": "ab5fcbe6"
   },
   "source": [
    "### Day of Week Target Encoding"
   ]
  },
  {
   "cell_type": "code",
   "execution_count": 201,
   "id": "a6243fab",
   "metadata": {
    "id": "a6243fab"
   },
   "outputs": [],
   "source": [
    "data['dow'] = data.Date.apply(lambda x: calendar.day_name[x.weekday()])"
   ]
  },
  {
   "cell_type": "code",
   "execution_count": 202,
   "id": "316f33a9",
   "metadata": {
    "id": "316f33a9"
   },
   "outputs": [],
   "source": [
    "# Separate the OOT\n",
    "train_set = data[data.Date < '2010-11-01']"
   ]
  },
  {
   "cell_type": "code",
   "execution_count": 203,
   "id": "53ab73b4",
   "metadata": {
    "colab": {
     "base_uri": "https://localhost:8080/",
     "height": 329
    },
    "id": "53ab73b4",
    "outputId": "b258a869-c203-4a76-9bf4-810908b5ade5"
   },
   "outputs": [],
   "source": [
    "#Statistical Smoothing\n",
    "c = 4;nmid = 20;y_avg = train_set['Fraud'].mean()\n",
    "y_dow = train_set.groupby('dow')['Fraud'].mean()\n",
    "num = train_set.groupby('dow').size()\n",
    "y_dow_smooth = y_avg + (y_dow - y_avg)/(1 + np.exp(-(num - nmid)/c))\n",
    "data['dow_risk'] = data.dow.map(y_dow_smooth)"
   ]
  },
  {
   "cell_type": "code",
   "execution_count": 204,
   "id": "2dde846d",
   "metadata": {
    "id": "2dde846d"
   },
   "outputs": [],
   "source": [
    "# delete files that we don't need any more to free up memory\n",
    "del train_set"
   ]
  },
  {
   "cell_type": "code",
   "execution_count": 205,
   "id": "7932ce70",
   "metadata": {
    "id": "7932ce70"
   },
   "outputs": [],
   "source": [
    "y_dow = y_dow.reset_index()\n",
    "cats = ['Monday','Tuesday','Wednesday','Thursday','Friday','Saturday','Sunday']\n",
    "y_dow['dow'] = pd.Categorical(y_dow['dow'],categories = cats,ordered = True)\n",
    "y_dow = y_dow.sort_values('dow')\n",
    "y_dow = y_dow.set_index('dow')"
   ]
  },
  {
   "cell_type": "code",
   "execution_count": 206,
   "id": "d28fea58",
   "metadata": {
    "id": "d28fea58"
   },
   "outputs": [
    {
     "data": {
      "image/png": "[encoded data removed]",
      "text/plain": [
       "<Figure size 2000x1000 with 1 Axes>"
      ]
     },
     "metadata": {},
     "output_type": "display_data"
    }
   ],
   "source": [
    "#plot\n",
    "fig,ax = plt.subplots(figsize=(20,10))\n",
    "plt.bar(data = y_dow,x = y_dow.index,height = 'Fraud',color = 'darkblue')\n",
    "ax.axhline(y = y_avg,ls = '--',lw = 2)\n",
    "plt.title('Fraud Proportion of Each Weekday', fontsize = 30)\n",
    "\n",
    "for i in (y_dow.index):\n",
    "    ax.text(i,y_dow.loc[i,'Fraud'] + 0.0001,round(y_dow.loc[i,'Fraud'],5),\\\n",
    "            horizontalalignment = 'center',fontsize = 15)\n",
    "\n",
    "plt.savefig('risktable.png')\n",
    "plt.show()"
   ]
  },
  {
   "cell_type": "markdown",
   "id": "34678248",
   "metadata": {
    "id": "34678248"
   },
   "source": [
    "### Make new entities"
   ]
  },
  {
   "cell_type": "code",
   "execution_count": 207,
   "id": "b9199fed",
   "metadata": {
    "id": "b9199fed"
   },
   "outputs": [
    {
     "data": {
      "text/plain": [
       "Recnum                        int64\n",
       "Cardnum                      object\n",
       "Date                 datetime64[ns]\n",
       "Merchnum                     object\n",
       "Merch_description            object\n",
       "Merch_state                  object\n",
       "Merch_zip                    object\n",
       "Transtype                    object\n",
       "Amount                      float64\n",
       "Fraud                         int64\n",
       "dow                          object\n",
       "dow_risk                    float64\n",
       "dtype: object"
      ]
     },
     "execution_count": 207,
     "metadata": {},
     "output_type": "execute_result"
    }
   ],
   "source": [
    "data.dtypes"
   ]
  },
  {
   "cell_type": "code",
   "execution_count": 208,
   "id": "df1fbc93",
   "metadata": {
    "id": "df1fbc93"
   },
   "outputs": [],
   "source": [
    "data['Merch_num_des'] = data.Merchnum + data.Merch_description\n",
    "data['Merch_num_state'] = data.Merchnum + data.Merch_state\n",
    "data['Merch_num_zip'] = data.Merchnum + data.Merch_zip\n",
    "data['Merch_des_state'] = data.Merch_description + data.Merch_state\n",
    "data['Merch_des_zip'] = data.Merch_description + data.Merch_zip\n",
    "data['Merch_state_zip'] = data.Merch_state + data.Merch_zip\n",
    "data['Merch_num_des_state'] = data.Merchnum + data.Merch_description + data.Merch_state\n",
    "data['Merch_num_des_zip'] = data.Merchnum + data.Merch_description + data.Merch_zip\n",
    "data['Merch_num_state_zip'] = data.Merchnum + data.Merch_state + data.Merch_zip\n",
    "data['Merch_des_state_zip'] = data.Merch_description + data.Merch_state + data.Merch_zip\n",
    "data['Merch_all_info'] = data.Merchnum + data.Merch_description + data.Merch_state + data.Merch_zip"
   ]
  },
  {
   "cell_type": "code",
   "execution_count": 209,
   "id": "NwgSc4PHzGUo",
   "metadata": {
    "id": "NwgSc4PHzGUo"
   },
   "outputs": [
    {
     "data": {
      "text/plain": [
       "Index(['Recnum', 'Cardnum', 'Date', 'Merchnum', 'Merch_description',\n",
       "       'Merch_state', 'Merch_zip', 'Transtype', 'Amount', 'Fraud', 'dow',\n",
       "       'dow_risk', 'Merch_num_des', 'Merch_num_state', 'Merch_num_zip',\n",
       "       'Merch_des_state', 'Merch_des_zip', 'Merch_state_zip',\n",
       "       'Merch_num_des_state', 'Merch_num_des_zip', 'Merch_num_state_zip',\n",
       "       'Merch_des_state_zip', 'Merch_all_info'],\n",
       "      dtype='object')"
      ]
     },
     "execution_count": 209,
     "metadata": {},
     "output_type": "execute_result"
    }
   ],
   "source": [
    "data.columns"
   ]
  },
  {
   "cell_type": "code",
   "execution_count": 210,
   "id": "IdFm_Ybz5_TY",
   "metadata": {
    "id": "IdFm_Ybz5_TY"
   },
   "outputs": [],
   "source": [
    "# if I include zip3 at the first place, the list here should be: list(data.iloc[:,np.r_[3:7,10,13:24]])\n",
    "for i in list(data.iloc[:,np.r_[3:7,12:23]]):\n",
    "    data['Card_'+i] = data.Cardnum + data[i]"
   ]
  },
  {
   "cell_type": "code",
   "execution_count": 211,
   "id": "V48OS7l_7Mjp",
   "metadata": {
    "id": "V48OS7l_7Mjp"
   },
   "outputs": [
    {
     "data": {
      "text/plain": [
       "38"
      ]
     },
     "execution_count": 211,
     "metadata": {},
     "output_type": "execute_result"
    }
   ],
   "source": [
    "len(data.columns)"
   ]
  },
  {
   "cell_type": "code",
   "execution_count": 27,
   "id": "d317d804",
   "metadata": {
    "id": "slfctdfD7Mrs"
   },
   "outputs": [
    {
     "data": {
      "text/plain": [
       "['zip3']"
      ]
     },
     "execution_count": 27,
     "metadata": {},
     "output_type": "execute_result"
    }
   ],
   "source": [
    "# the whole list of attributes should be:  list(data.iloc[:,np.r_[1, 3:7,10,13:39]].columns)\n",
    "attributes= ['zip3']\n",
    "attributes"
   ]
  },
  {
   "cell_type": "code",
   "execution_count": 241,
   "id": "d5534ff8",
   "metadata": {},
   "outputs": [
    {
     "data": {
      "text/plain": [
       "31"
      ]
     },
     "execution_count": 241,
     "metadata": {},
     "output_type": "execute_result"
    }
   ],
   "source": [
    "len(attributes)"
   ]
  },
  {
   "cell_type": "code",
   "execution_count": 213,
   "id": "16bd58d1",
   "metadata": {},
   "outputs": [
    {
     "data": {
      "text/plain": [
       "Recnum                      0\n",
       "Cardnum                     0\n",
       "Date                        0\n",
       "Merchnum                    0\n",
       "Merch_description           0\n",
       "Merch_state                 0\n",
       "Merch_zip                   0\n",
       "Transtype                   0\n",
       "Amount                      0\n",
       "Fraud                       0\n",
       "dow                         0\n",
       "dow_risk                    0\n",
       "Merch_num_des               0\n",
       "Merch_num_state             0\n",
       "Merch_num_zip               0\n",
       "Merch_des_state             0\n",
       "Merch_des_zip               0\n",
       "Merch_state_zip             0\n",
       "Merch_num_des_state         0\n",
       "Merch_num_des_zip           0\n",
       "Merch_num_state_zip         0\n",
       "Merch_des_state_zip         0\n",
       "Merch_all_info              0\n",
       "Card_Merchnum               0\n",
       "Card_Merch_description      0\n",
       "Card_Merch_state            0\n",
       "Card_Merch_zip              0\n",
       "Card_Merch_num_des          0\n",
       "Card_Merch_num_state        0\n",
       "Card_Merch_num_zip          0\n",
       "Card_Merch_des_state        0\n",
       "Card_Merch_des_zip          0\n",
       "Card_Merch_state_zip        0\n",
       "Card_Merch_num_des_state    0\n",
       "Card_Merch_num_des_zip      0\n",
       "Card_Merch_num_state_zip    0\n",
       "Card_Merch_des_state_zip    0\n",
       "Card_Merch_all_info         0\n",
       "dtype: int64"
      ]
     },
     "execution_count": 213,
     "metadata": {},
     "output_type": "execute_result"
    }
   ],
   "source": [
    "data.isna().sum()"
   ]
  },
  {
   "cell_type": "markdown",
   "id": "f11495f0",
   "metadata": {
    "id": "NmepilZg6c8Y"
   },
   "source": [
    "### New Variables"
   ]
  },
  {
   "cell_type": "markdown",
   "id": "a4ce923b",
   "metadata": {},
   "source": [
    "#### Benford's Law"
   ]
  },
  {
   "cell_type": "code",
   "execution_count": 44,
   "id": "2655fb82",
   "metadata": {},
   "outputs": [],
   "source": [
    "bf = data.copy()\n",
    "bf['amount_100'] = (bf['Amount']*100).astype(str)\n",
    "bf['first_dig'] = bf['amount_100'].str[0]\n",
    "dropfedex = bf[bf['Merch_description'].str.contains('FEDEX')]\n",
    "droplist = dropfedex.index.tolist()\n",
    "bf1 = bf.drop(droplist)\n",
    "bf1['bin'] = bf1['first_dig'].apply(lambda x:'low' if x == '1'\\\n",
    "                                   else ('low' if x == '2' else 'high'))"
   ]
  },
  {
   "cell_type": "code",
   "execution_count": 45,
   "id": "d42a91d4",
   "metadata": {},
   "outputs": [],
   "source": [
    "card_bf = bf1.groupby(['Cardnum','bin']).agg({'bin':['count']}).reset_index()\n",
    "card_bf.columns = ['Cardnum','bin','count']"
   ]
  },
  {
   "cell_type": "code",
   "execution_count": 46,
   "id": "eea94fd8",
   "metadata": {},
   "outputs": [
    {
     "data": {
      "text/html": [
       "<div>\n",
       "<style scoped>\n",
       "    .dataframe tbody tr th:only-of-type {\n",
       "        vertical-align: middle;\n",
       "    }\n",
       "\n",
       "    .dataframe tbody tr th {\n",
       "        vertical-align: top;\n",
       "    }\n",
       "\n",
       "    .dataframe thead th {\n",
       "        text-align: right;\n",
       "    }\n",
       "</style>\n",
       "<table border=\"1\" class=\"dataframe\">\n",
       "  <thead>\n",
       "    <tr style=\"text-align: right;\">\n",
       "      <th></th>\n",
       "      <th>Cardnum</th>\n",
       "      <th>n_high</th>\n",
       "      <th>n_low</th>\n",
       "    </tr>\n",
       "  </thead>\n",
       "  <tbody>\n",
       "    <tr>\n",
       "      <th>0</th>\n",
       "      <td>5142110002</td>\n",
       "      <td>1.0</td>\n",
       "      <td>1.0</td>\n",
       "    </tr>\n",
       "    <tr>\n",
       "      <th>1</th>\n",
       "      <td>5142110081</td>\n",
       "      <td>4.0</td>\n",
       "      <td>1.0</td>\n",
       "    </tr>\n",
       "    <tr>\n",
       "      <th>2</th>\n",
       "      <td>5142110313</td>\n",
       "      <td>1.0</td>\n",
       "      <td>2.0</td>\n",
       "    </tr>\n",
       "    <tr>\n",
       "      <th>3</th>\n",
       "      <td>5142110402</td>\n",
       "      <td>8.0</td>\n",
       "      <td>3.0</td>\n",
       "    </tr>\n",
       "    <tr>\n",
       "      <th>4</th>\n",
       "      <td>5142110434</td>\n",
       "      <td>1.0</td>\n",
       "      <td>1.0</td>\n",
       "    </tr>\n",
       "    <tr>\n",
       "      <th>...</th>\n",
       "      <td>...</td>\n",
       "      <td>...</td>\n",
       "      <td>...</td>\n",
       "    </tr>\n",
       "    <tr>\n",
       "      <th>1635</th>\n",
       "      <td>5142310397</td>\n",
       "      <td>1.0</td>\n",
       "      <td>1.0</td>\n",
       "    </tr>\n",
       "    <tr>\n",
       "      <th>1636</th>\n",
       "      <td>5142310525</td>\n",
       "      <td>3.0</td>\n",
       "      <td>1.0</td>\n",
       "    </tr>\n",
       "    <tr>\n",
       "      <th>1637</th>\n",
       "      <td>5142310598</td>\n",
       "      <td>1.0</td>\n",
       "      <td>2.0</td>\n",
       "    </tr>\n",
       "    <tr>\n",
       "      <th>1638</th>\n",
       "      <td>5142310768</td>\n",
       "      <td>2.0</td>\n",
       "      <td>2.0</td>\n",
       "    </tr>\n",
       "    <tr>\n",
       "      <th>1639</th>\n",
       "      <td>5142847398</td>\n",
       "      <td>35.0</td>\n",
       "      <td>10.0</td>\n",
       "    </tr>\n",
       "  </tbody>\n",
       "</table>\n",
       "<p>1640 rows × 3 columns</p>\n",
       "</div>"
      ],
      "text/plain": [
       "         Cardnum  n_high  n_low\n",
       "0     5142110002     1.0    1.0\n",
       "1     5142110081     4.0    1.0\n",
       "2     5142110313     1.0    2.0\n",
       "3     5142110402     8.0    3.0\n",
       "4     5142110434     1.0    1.0\n",
       "...          ...     ...    ...\n",
       "1635  5142310397     1.0    1.0\n",
       "1636  5142310525     3.0    1.0\n",
       "1637  5142310598     1.0    2.0\n",
       "1638  5142310768     2.0    2.0\n",
       "1639  5142847398    35.0   10.0\n",
       "\n",
       "[1640 rows x 3 columns]"
      ]
     },
     "execution_count": 46,
     "metadata": {},
     "output_type": "execute_result"
    }
   ],
   "source": [
    "card_bf = card_bf.pivot_table(index = 'Cardnum', columns = 'bin',\n",
    "                             values = 'count', aggfunc = 'sum').reset_index()\n",
    "card_bf.columns = ['Cardnum','n_high','n_low']\n",
    "card_bf = card_bf.fillna(1) \n",
    "card_bf"
   ]
  },
  {
   "cell_type": "code",
   "execution_count": 47,
   "id": "7d453ddd",
   "metadata": {},
   "outputs": [],
   "source": [
    "# calculating R, 1/R, U, n, t, U_smoothed\n",
    "c = 3\n",
    "n_mid = 15\n",
    "card_bf['R'] = (1.096 * card_bf['n_low']/card_bf['n_high'])\n",
    "card_bf['1/R'] = (1/card_bf['R'])\n",
    "card_bf['U'] = list(map(lambda x,y:max(x,y),card_bf['R'],card_bf['1/R']))\n",
    "card_bf['n'] = card_bf['n_high'] + card_bf['n_low']\n",
    "card_bf['t'] = ((card_bf['n'] - n_mid)/c)\n",
    "card_bf['U_smoothed'] = list(map(lambda x,y:(1+(x-1)/(1+np.exp(-y))),card_bf['U'],card_bf['t']))\n",
    "card_bf['U_smoothed'] = card_bf['U_smoothed']"
   ]
  },
  {
   "cell_type": "code",
   "execution_count": 48,
   "id": "9f9182e7",
   "metadata": {},
   "outputs": [
    {
     "data": {
      "text/html": [
       "<div>\n",
       "<style scoped>\n",
       "    .dataframe tbody tr th:only-of-type {\n",
       "        vertical-align: middle;\n",
       "    }\n",
       "\n",
       "    .dataframe tbody tr th {\n",
       "        vertical-align: top;\n",
       "    }\n",
       "\n",
       "    .dataframe thead th {\n",
       "        text-align: right;\n",
       "    }\n",
       "</style>\n",
       "<table border=\"1\" class=\"dataframe\">\n",
       "  <thead>\n",
       "    <tr style=\"text-align: right;\">\n",
       "      <th></th>\n",
       "      <th>Merchnum</th>\n",
       "      <th>n_high</th>\n",
       "      <th>n_low</th>\n",
       "    </tr>\n",
       "  </thead>\n",
       "  <tbody>\n",
       "    <tr>\n",
       "      <th>0</th>\n",
       "      <td>0000000000499</td>\n",
       "      <td>1.0</td>\n",
       "      <td>1.0</td>\n",
       "    </tr>\n",
       "    <tr>\n",
       "      <th>1</th>\n",
       "      <td>0000000001408</td>\n",
       "      <td>1.0</td>\n",
       "      <td>1.0</td>\n",
       "    </tr>\n",
       "    <tr>\n",
       "      <th>2</th>\n",
       "      <td>0000000004227</td>\n",
       "      <td>1.0</td>\n",
       "      <td>1.0</td>\n",
       "    </tr>\n",
       "    <tr>\n",
       "      <th>3</th>\n",
       "      <td>0000000006763</td>\n",
       "      <td>4.0</td>\n",
       "      <td>1.0</td>\n",
       "    </tr>\n",
       "    <tr>\n",
       "      <th>4</th>\n",
       "      <td>0000000006929</td>\n",
       "      <td>9.0</td>\n",
       "      <td>3.0</td>\n",
       "    </tr>\n",
       "    <tr>\n",
       "      <th>...</th>\n",
       "      <td>...</td>\n",
       "      <td>...</td>\n",
       "      <td>...</td>\n",
       "    </tr>\n",
       "    <tr>\n",
       "      <th>13077</th>\n",
       "      <td>9995659070006</td>\n",
       "      <td>1.0</td>\n",
       "      <td>1.0</td>\n",
       "    </tr>\n",
       "    <tr>\n",
       "      <th>13078</th>\n",
       "      <td>9996060597900</td>\n",
       "      <td>1.0</td>\n",
       "      <td>1.0</td>\n",
       "    </tr>\n",
       "    <tr>\n",
       "      <th>13079</th>\n",
       "      <td>DU49038320006</td>\n",
       "      <td>1.0</td>\n",
       "      <td>1.0</td>\n",
       "    </tr>\n",
       "    <tr>\n",
       "      <th>13080</th>\n",
       "      <td>PENNE9 CO #05</td>\n",
       "      <td>1.0</td>\n",
       "      <td>1.0</td>\n",
       "    </tr>\n",
       "    <tr>\n",
       "      <th>13081</th>\n",
       "      <td>PENNE9 CO #68</td>\n",
       "      <td>1.0</td>\n",
       "      <td>1.0</td>\n",
       "    </tr>\n",
       "  </tbody>\n",
       "</table>\n",
       "<p>13082 rows × 3 columns</p>\n",
       "</div>"
      ],
      "text/plain": [
       "            Merchnum  n_high  n_low\n",
       "0      0000000000499     1.0    1.0\n",
       "1      0000000001408     1.0    1.0\n",
       "2      0000000004227     1.0    1.0\n",
       "3      0000000006763     4.0    1.0\n",
       "4      0000000006929     9.0    3.0\n",
       "...              ...     ...    ...\n",
       "13077  9995659070006     1.0    1.0\n",
       "13078  9996060597900     1.0    1.0\n",
       "13079  DU49038320006     1.0    1.0\n",
       "13080  PENNE9 CO #05     1.0    1.0\n",
       "13081  PENNE9 CO #68     1.0    1.0\n",
       "\n",
       "[13082 rows x 3 columns]"
      ]
     },
     "execution_count": 48,
     "metadata": {},
     "output_type": "execute_result"
    }
   ],
   "source": [
    "merch_bf = bf1.groupby(['Merchnum','bin']).agg({'bin':['count']}).reset_index()\n",
    "merch_bf.columns = ['Merchnum','bin','count']\n",
    "merch_bf = merch_bf.pivot_table(index = 'Merchnum', columns = 'bin',\n",
    "                             values = 'count', aggfunc = 'sum').reset_index()\n",
    "merch_bf.columns = ['Merchnum','n_high','n_low']\n",
    "merch_bf = merch_bf.fillna(1) \n",
    "merch_bf"
   ]
  },
  {
   "cell_type": "code",
   "execution_count": 49,
   "id": "f7d72d58",
   "metadata": {},
   "outputs": [],
   "source": [
    "# calculating R, 1/R, U, n, t, U_smoothed\n",
    "c = 3\n",
    "n_mid = 15\n",
    "merch_bf['R'] = (1.096 * merch_bf['n_low']/merch_bf['n_high'])\n",
    "merch_bf['1/R'] = (1/merch_bf['R'])\n",
    "merch_bf['U'] = list(map(lambda x,y:max(x,y),merch_bf['R'],merch_bf['1/R']))\n",
    "merch_bf['n'] = merch_bf['n_high'] + merch_bf['n_low']\n",
    "merch_bf['t'] = ((merch_bf['n'] - n_mid)/c)\n",
    "merch_bf['U_smoothed'] = list(map(lambda x,y:(1+(x-1)/(1+np.exp(-y))),merch_bf['U'],merch_bf['t']))\n",
    "merch_bf['U_smoothed'] = merch_bf['U_smoothed']"
   ]
  },
  {
   "cell_type": "code",
   "execution_count": 50,
   "id": "95ae3122",
   "metadata": {},
   "outputs": [
    {
     "data": {
      "text/html": [
       "<div>\n",
       "<style scoped>\n",
       "    .dataframe tbody tr th:only-of-type {\n",
       "        vertical-align: middle;\n",
       "    }\n",
       "\n",
       "    .dataframe tbody tr th {\n",
       "        vertical-align: top;\n",
       "    }\n",
       "\n",
       "    .dataframe thead th {\n",
       "        text-align: right;\n",
       "    }\n",
       "</style>\n",
       "<table border=\"1\" class=\"dataframe\">\n",
       "  <thead>\n",
       "    <tr style=\"text-align: right;\">\n",
       "      <th></th>\n",
       "      <th>U_smoothed</th>\n",
       "    </tr>\n",
       "    <tr>\n",
       "      <th>Cardnum</th>\n",
       "      <th></th>\n",
       "    </tr>\n",
       "  </thead>\n",
       "  <tbody>\n",
       "    <tr>\n",
       "      <th>5142253356</th>\n",
       "      <td>13.371199</td>\n",
       "    </tr>\n",
       "    <tr>\n",
       "      <th>5142299705</th>\n",
       "      <td>9.027976</td>\n",
       "    </tr>\n",
       "    <tr>\n",
       "      <th>5142197563</th>\n",
       "      <td>8.150852</td>\n",
       "    </tr>\n",
       "  </tbody>\n",
       "</table>\n",
       "</div>"
      ],
      "text/plain": [
       "            U_smoothed\n",
       "Cardnum               \n",
       "5142253356   13.371199\n",
       "5142299705    9.027976\n",
       "5142197563    8.150852"
      ]
     },
     "execution_count": 50,
     "metadata": {},
     "output_type": "execute_result"
    }
   ],
   "source": [
    "card_bf.set_index('Cardnum', inplace = True)\n",
    "card_Ustar = pd.DataFrame(card_bf['U_smoothed'])\n",
    "card_Ustar.sort_values(['U_smoothed'],ascending = False).head(3)"
   ]
  },
  {
   "cell_type": "code",
   "execution_count": 51,
   "id": "9d66ebe5",
   "metadata": {},
   "outputs": [
    {
     "data": {
      "text/html": [
       "<div>\n",
       "<style scoped>\n",
       "    .dataframe tbody tr th:only-of-type {\n",
       "        vertical-align: middle;\n",
       "    }\n",
       "\n",
       "    .dataframe tbody tr th {\n",
       "        vertical-align: top;\n",
       "    }\n",
       "\n",
       "    .dataframe thead th {\n",
       "        text-align: right;\n",
       "    }\n",
       "</style>\n",
       "<table border=\"1\" class=\"dataframe\">\n",
       "  <thead>\n",
       "    <tr style=\"text-align: right;\">\n",
       "      <th></th>\n",
       "      <th>U_smoothed</th>\n",
       "    </tr>\n",
       "    <tr>\n",
       "      <th>Merchnum</th>\n",
       "      <th></th>\n",
       "    </tr>\n",
       "  </thead>\n",
       "  <tbody>\n",
       "    <tr>\n",
       "      <th>0991808369338</th>\n",
       "      <td>165.145985</td>\n",
       "    </tr>\n",
       "    <tr>\n",
       "      <th>8078200641472</th>\n",
       "      <td>64.663981</td>\n",
       "    </tr>\n",
       "    <tr>\n",
       "      <th>0308904389335</th>\n",
       "      <td>48.357557</td>\n",
       "    </tr>\n",
       "  </tbody>\n",
       "</table>\n",
       "</div>"
      ],
      "text/plain": [
       "               U_smoothed\n",
       "Merchnum                 \n",
       "0991808369338  165.145985\n",
       "8078200641472   64.663981\n",
       "0308904389335   48.357557"
      ]
     },
     "execution_count": 51,
     "metadata": {},
     "output_type": "execute_result"
    }
   ],
   "source": [
    "merch_bf.set_index('Merchnum', inplace = True)\n",
    "merch_Ustar = pd.DataFrame(merch_bf['U_smoothed'])\n",
    "merch_Ustar.sort_values(['U_smoothed'],ascending = False).head(3)"
   ]
  },
  {
   "cell_type": "code",
   "execution_count": 94,
   "id": "efdfd1da",
   "metadata": {},
   "outputs": [],
   "source": [
    "final = data.copy() \n",
    "final = final.merge(card_Ustar, how = 'left', left_on = 'Cardnum',\n",
    "                    right_on = card_Ustar.index)\n",
    "final = final.rename(columns = {'U_smoothed': 'U_smoothed_cardnum'})\n",
    "final = final.merge(merch_Ustar, how = 'left', left_on = 'Merchnum',\n",
    "                    right_on = merch_Ustar.index)\n",
    "final = final.rename(columns = {'U_smoothed': 'U_smoothed_merchnum'})\n",
    "final['U_smoothed_cardnum'] = final['U_smoothed_cardnum'].replace(np.nan,1)\n",
    "final['U_smoothed_merchnum'] = final['U_smoothed_merchnum'].replace(np.nan,1)\n",
    "\n",
    "final.to_csv('3_3_1_bf_law.csv')"
   ]
  },
  {
   "cell_type": "markdown",
   "id": "f7254bad",
   "metadata": {},
   "source": [
    "#### Preparation for further variable making"
   ]
  },
  {
   "cell_type": "code",
   "execution_count": 29,
   "id": "f78bbc58",
   "metadata": {},
   "outputs": [],
   "source": [
    "# Because my computational power is not enough for running the whole notebook\n",
    "# Here we seperate the datasets to run it one by one\n",
    "def writing_csv(dataframe, filename):\n",
    "    try:\n",
    "        dataframe.to_csv('output/' + filename + '.csv',index=False)\n",
    "    except:\n",
    "        dataframe.to_csv(filename + '.csv',index=False)"
   ]
  },
  {
   "cell_type": "code",
   "execution_count": 30,
   "id": "6c787028",
   "metadata": {},
   "outputs": [],
   "source": [
    "numvar = {}\n",
    "listvar = []\n",
    "\n",
    "def num_column_count(dataframe, name):\n",
    "    \n",
    "    global numvar, listvar\n",
    "    \n",
    "    numvars_new = len(dataframe.columns) - 2 # Exclude Recnum and Fraud \n",
    "    numvar[name] = numvars_new\n",
    "    \n",
    "    listvar_new = dataframe.columns.to_list()[2:] # Exclude Recnum and Fraud \n",
    "    listvar += listvar_new\n",
    "\n",
    "    print(\"from Dataframe: \" + name)\n",
    "    print(\"new variables:\", numvars_new,\"  total variables:\", sum(numvar.values()))"
   ]
  },
  {
   "cell_type": "code",
   "execution_count": 31,
   "id": "9c69bfaa",
   "metadata": {},
   "outputs": [],
   "source": [
    "df = data.copy()\n",
    "df['check_Date'] = df.Date\n",
    "df['check_Recnum'] = df.Recnum"
   ]
  },
  {
   "cell_type": "code",
   "execution_count": 32,
   "id": "cab89429",
   "metadata": {
    "scrolled": true
   },
   "outputs": [
    {
     "name": "stdout",
     "output_type": "stream",
     "text": [
      "(96397, 2)\n"
     ]
    },
    {
     "data": {
      "text/html": [
       "<div>\n",
       "<style scoped>\n",
       "    .dataframe tbody tr th:only-of-type {\n",
       "        vertical-align: middle;\n",
       "    }\n",
       "\n",
       "    .dataframe tbody tr th {\n",
       "        vertical-align: top;\n",
       "    }\n",
       "\n",
       "    .dataframe thead th {\n",
       "        text-align: right;\n",
       "    }\n",
       "</style>\n",
       "<table border=\"1\" class=\"dataframe\">\n",
       "  <thead>\n",
       "    <tr style=\"text-align: right;\">\n",
       "      <th></th>\n",
       "      <th>Recnum</th>\n",
       "      <th>Fraud</th>\n",
       "    </tr>\n",
       "  </thead>\n",
       "  <tbody>\n",
       "    <tr>\n",
       "      <th>0</th>\n",
       "      <td>1</td>\n",
       "      <td>0</td>\n",
       "    </tr>\n",
       "    <tr>\n",
       "      <th>1</th>\n",
       "      <td>2</td>\n",
       "      <td>0</td>\n",
       "    </tr>\n",
       "    <tr>\n",
       "      <th>2</th>\n",
       "      <td>3</td>\n",
       "      <td>0</td>\n",
       "    </tr>\n",
       "    <tr>\n",
       "      <th>3</th>\n",
       "      <td>4</td>\n",
       "      <td>0</td>\n",
       "    </tr>\n",
       "    <tr>\n",
       "      <th>4</th>\n",
       "      <td>5</td>\n",
       "      <td>0</td>\n",
       "    </tr>\n",
       "  </tbody>\n",
       "</table>\n",
       "</div>"
      ],
      "text/plain": [
       "   Recnum  Fraud\n",
       "0       1      0\n",
       "1       2      0\n",
       "2       3      0\n",
       "3       4      0\n",
       "4       5      0"
      ]
     },
     "execution_count": 32,
     "metadata": {},
     "output_type": "execute_result"
    }
   ],
   "source": [
    "# Use this instead of \"vars\"\n",
    "# Only keep \"Recnum\" and \"Fraud\". Thus, each of my csv file will not have any variables mixing together.\n",
    "fraud_label = data.loc[:, [\"Recnum\", \"Fraud\"]].copy() \n",
    "print(fraud_label.shape)\n",
    "fraud_label.head()"
   ]
  },
  {
   "cell_type": "markdown",
   "id": "33371c54",
   "metadata": {},
   "source": [
    "#### Day Since & Velocity"
   ]
  },
  {
   "cell_type": "code",
   "execution_count": 33,
   "id": "1580440d",
   "metadata": {},
   "outputs": [
    {
     "name": "stdout",
     "output_type": "stream",
     "text": [
      "\n",
      "zip3_day_since --->Done\n",
      "zip3_count_0 --->Done\n",
      "zip3_count_1 --->Done\n",
      "zip3_count_3 --->Done\n",
      "zip3_count_7 --->Done\n",
      "zip3_count_14 --->Done\n",
      "zip3_count_30 --->Done\n",
      "Run time for entity zip3--------328.29s\n",
      "from Dataframe: 3_3_3_zip3_velocity_counts_and_days_since\n",
      "new variables: 7   total variables: 7\n",
      "Total run time:5.48min\n",
      "CPU times: user 1min 15s, sys: 3min 31s, total: 4min 47s\n",
      "Wall time: 5min 28s\n"
     ]
    }
   ],
   "source": [
    "%%time\n",
    "begin=time.time()\n",
    "\n",
    "vars_3_3_3= fraud_label.copy() \n",
    "\n",
    "for i in attributes:\n",
    "    st = time.time()\n",
    "    df_1 = df[['Recnum','Date',i]]\n",
    "    df_r = df[['check_Recnum','check_Date',i,'Amount']]\n",
    "    temp = pd.merge(df_1, df_r, left_on = i, right_on = i)\n",
    "    \n",
    "    # day since\n",
    "    day_since_df = temp[temp.Recnum > temp.check_Recnum][['Recnum','Date','check_Date']]\\\n",
    "        .groupby('Recnum')[['Date','check_Date']].last()\n",
    "    mapper = (day_since_df.Date-day_since_df.check_Date).dt.days\n",
    "    vars_3_3_3[i + '_day_since'] = vars_3_3_3.Recnum.map(mapper)\n",
    "    vars_3_3_3[i + '_day_since'].fillna(365, inplace = True)\n",
    "    print(f'\\n{i}_day_since --->Done')\n",
    "    \n",
    "    # Velocity\n",
    "    for t in [0,1,3,7,14,30]:\n",
    "        temp2 = temp[(temp.check_Date >= (temp.Date - dt.timedelta(t)))& \n",
    "                     (temp.Recnum >= temp.check_Recnum)]   \n",
    "        mapper2 = temp2.groupby('Recnum')[i].count()\n",
    "        vars_3_3_3[i + '_count_' +str(t)] = vars_3_3_3.Recnum.map(mapper2)\n",
    "        print(f'{i}_count_{str(t)} --->Done')   \n",
    "        \n",
    "    del df_1, df_r, temp\n",
    "    vars_3_3_3 = vars_3_3_3.copy() # solve for fragmented DataFrame\n",
    "\n",
    "    print(f'Run time for entity {i}--------{time.time()-st:0.2f}s')\n",
    "\n",
    "writing_csv(vars_3_3_3, '3_3_3_zip3_velocity_counts_and_days_since')\n",
    "num_column_count(vars_3_3_3, '3_3_3_zip3_velocity_counts_and_days_since')\n",
    "# For the previous run (with all the other attributes except zip3) the csv name is '3_3_3_velocity_counts_and_days_since'\n",
    "# The following naming of CSV files for saving feature purposes follows the same way\n",
    "print(f'Total run time:{(time.time()-begin)/60:0.2f}min')"
   ]
  },
  {
   "cell_type": "markdown",
   "id": "18cd5de5",
   "metadata": {},
   "source": [
    "#### Amount Variables"
   ]
  },
  {
   "cell_type": "code",
   "execution_count": 34,
   "id": "03a40101",
   "metadata": {},
   "outputs": [
    {
     "name": "stdout",
     "output_type": "stream",
     "text": [
      "zip3 amount variables over past 0 ---> Done\n",
      "zip3 amount variables over past 1 ---> Done\n",
      "zip3 amount variables over past 3 ---> Done\n",
      "zip3 amount variables over past 7 ---> Done\n",
      "zip3 amount variables over past 14 ---> Done\n",
      "zip3 amount variables over past 30 ---> Done\n",
      "from Dataframe: 3_3_4_zip3_amount_var\n",
      "new variables: 49   total variables: 56\n",
      "Total run time:4.69min\n",
      "CPU times: user 1min 9s, sys: 2min 59s, total: 4min 8s\n",
      "Wall time: 4min 41s\n"
     ]
    }
   ],
   "source": [
    "%%time\n",
    "begin=time.time()\n",
    "\n",
    "vars_3_3_4 = data.loc[:, ['Recnum', 'Fraud','Amount']].copy()  # we need 'Amount' here\n",
    "\n",
    "for i in attributes:\n",
    "    df_1 = df[['Recnum','Date',i]]\n",
    "    df_r = df[['check_Recnum','check_Date',i,'Amount']]\n",
    "    temp = pd.merge(df_1, df_r, left_on = i, right_on = i)\n",
    "    for t in [0,1,3,7,14,30]:\n",
    "        temp2 = temp[(temp.check_Date >= (temp.Date - dt.timedelta(t))) &\\\n",
    "                     (temp.Recnum >= temp.check_Recnum)][['Recnum',i, 'Amount']]       \n",
    "        vars_3_3_4[i + '_avg_' + str(t)] = vars_3_3_4.Recnum.map(temp2.groupby('Recnum')['Amount'].mean())\n",
    "        vars_3_3_4[i + '_max_' + str(t)] = vars_3_3_4.Recnum.map(temp2.groupby('Recnum')['Amount'].max())\n",
    "        vars_3_3_4[i + '_med_' + str(t)] = vars_3_3_4.Recnum.map(temp2.groupby('Recnum')['Amount'].median())\n",
    "        vars_3_3_4[i + '_total_' + str(t)] = vars_3_3_4.Recnum.map(temp2.groupby('Recnum')['Amount'].sum())\n",
    "        vars_3_3_4[i + '_actual/avg_' + str(t)] = vars_3_3_4['Amount'] / vars_3_3_4[i + '_avg_' + str(t)]\n",
    "        vars_3_3_4[i + '_actual/max_' + str(t)] = vars_3_3_4['Amount'] / vars_3_3_4[i + '_max_' + str(t)]\n",
    "        vars_3_3_4[i + '_actual/med_' + str(t)] = vars_3_3_4['Amount'] / vars_3_3_4[i + '_med_' + str(t)]\n",
    "        vars_3_3_4[i + '_actual/toal_' + str(t)] = vars_3_3_4['Amount'] / vars_3_3_4[i + '_total_' + str(t)]       \n",
    "        print(i + ' amount variables over past ' + str(t) + ' ---> Done')\n",
    "\n",
    "writing_csv(vars_3_3_4, '3_3_4_zip3_amount_var')\n",
    "num_column_count(vars_3_3_4, '3_3_4_zip3_amount_var')\n",
    "\n",
    "print(f'Total run time:{(time.time()-begin)/60:0.2f}min')\n",
    "        "
   ]
  },
  {
   "cell_type": "markdown",
   "id": "da141565",
   "metadata": {},
   "source": [
    "####  Relative Velocity & Velocity days since ratio"
   ]
  },
  {
   "cell_type": "code",
   "execution_count": 35,
   "id": "379c4394",
   "metadata": {},
   "outputs": [
    {
     "name": "stdout",
     "output_type": "stream",
     "text": [
      "from Dataframe: 3_3_5_zip3_relative&daysince_vel\n",
      "new variables: 8   total variables: 64\n",
      "Total run time:0.88s\n",
      "CPU times: user 805 ms, sys: 54.2 ms, total: 860 ms\n",
      "Wall time: 881 ms\n"
     ]
    }
   ],
   "source": [
    "%%time\n",
    "\n",
    "begin=time.time()\n",
    "\n",
    "vars_3_3_5 = fraud_label.copy()\n",
    "\n",
    "for i in attributes:\n",
    "    for d in ['0','1']:\n",
    "        for dd in ['7','14','30']:\n",
    "            vars_3_3_5[i+'_count_'+d+'_by_'+dd] = \\\n",
    "            vars_3_3_3[i+'_count_'+d]/(vars_3_3_3[i+'_count_'+dd]/float(dd))\n",
    "            vars_3_3_5[i+'_vdratio'+d+'_day_since'] =\\\n",
    "            vars_3_3_5[i+'_count_'+d+'_by_'+dd]/(vars_3_3_3[i+'_day_since']+1)\n",
    "            \n",
    "    vars_3_3_5 = vars_3_3_5.copy()\n",
    "                                          \n",
    "writing_csv(vars_3_3_5, '3_3_5_zip3_relative&daysince_vel')\n",
    "num_column_count(vars_3_3_5, '3_3_5_zip3_relative&daysince_vel')\n",
    "\n",
    "print(f'Total run time:{time.time()-begin:0.2f}s')"
   ]
  },
  {
   "cell_type": "markdown",
   "id": "a78e3de5",
   "metadata": {},
   "source": [
    "#### Variability"
   ]
  },
  {
   "cell_type": "code",
   "execution_count": 36,
   "id": "13e3f46a",
   "metadata": {},
   "outputs": [
    {
     "name": "stdout",
     "output_type": "stream",
     "text": [
      "Run time for amount variables zip3--------154.58s---> Done\n",
      "Run time for amount variables zip3--------186.72s---> Done\n",
      "Run time for amount variables zip3--------215.94s---> Done\n",
      "Run time for amount variables zip3--------250.88s---> Done\n",
      "Run time for amount variables zip3--------284.40s---> Done\n",
      "Run time for amount variables zip3--------327.62s---> Done\n",
      "from Dataframe: 3_3_7_zip3_variability\n",
      "new variables: 18   total variables: 82\n",
      "Total run time:329.31s\n",
      "CPU times: user 1min 11s, sys: 3min 24s, total: 4min 36s\n",
      "Wall time: 5min 29s\n"
     ]
    }
   ],
   "source": [
    "%%time\n",
    "begin = time.time()\n",
    "\n",
    "vars_3_3_7 = fraud_label.copy()\n",
    "\n",
    "for i in attributes:\n",
    "    st = time.time()\n",
    "    df_l = df[['Recnum', 'Date', i,'Amount']]\n",
    "    df_r = df[['check_Recnum', 'check_Date', i, 'Amount']]\n",
    "    temp = pd.merge(df_l, df_r, left_on = i, right_on = i)\n",
    "    \n",
    "    for t in [0,1,3,7,14,30]:\n",
    "        temp3 = temp[(temp.check_Date >= (temp.Date - dt.timedelta(t))) &\\\n",
    "                       (temp.Recnum >= temp.check_Recnum)][['Recnum', 'check_Recnum',i, 'Amount_x','Amount_y']]\n",
    "        temp3['Amount_diff']=temp3['Amount_y']-temp3['Amount_x']\n",
    "        \n",
    "        mapper3 = temp3.groupby('Recnum')['Amount_diff'].agg(['mean','max','median'])\n",
    "        mapper3 = mapper3.rename(columns = {'mean':'avg','max':'max','median':'med'})\n",
    "        mapper3 = mapper3.rename(columns = lambda text: i+'_variability_'+ text + str(t)) \n",
    "        vars_3_3_7 = vars_3_3_7.merge(mapper3, left_on = 'Recnum',right_on = 'Recnum')\n",
    "        \n",
    "        \n",
    "        \n",
    "#         col_name = i + '_variability_avg_' + str(t)\n",
    "#         mapper3 = temp3.groupby('Recnum')['Amount_diff'].mean()\n",
    "#         vars_3_3_7[col_name] = vars_3_3_7.Recnum.map(mapper3)        \n",
    "#         print(col_name + ' ---> Done')\n",
    "        \n",
    "#         col_name = i + '_variability_max_' + str(t)\n",
    "#         mapper3 = temp3.groupby('Recnum')['Amount_diff'].max()\n",
    "#         vars_3_3_7[col_name] = vars_3_3_7.Recnum.map(mapper3)        \n",
    "#         print(col_name + ' ---> Done')\n",
    "        \n",
    "#         col_name = i + '_variability_med_' + str(t)\n",
    "#         mapper3 = temp3.groupby('Recnum')['Amount_diff'].median()\n",
    "#         vars_3_3_7[col_name] = vars_3_3_7.Recnum.map(mapper3)        \n",
    "#         print(col_name + ' ---> Done')\n",
    "        \n",
    "        print( f'Run time for amount variables {i}--------{time.time()-st:0.2f}s---> Done')\n",
    "\n",
    "writing_csv(vars_3_3_7, '3_3_7_zip3_variability')\n",
    "num_column_count(vars_3_3_7, '3_3_7_zip3_variability')\n",
    "\n",
    "print(f'Total run time:{time.time()-begin:0.2f}s')\n",
    "\n",
    "del vars_3_3_7   \n",
    "       "
   ]
  },
  {
   "cell_type": "markdown",
   "id": "41815ec0",
   "metadata": {},
   "source": [
    "#### Cross entity uniqueness variables"
   ]
  },
  {
   "cell_type": "code",
   "execution_count": 92,
   "id": "711450fa",
   "metadata": {},
   "outputs": [
    {
     "data": {
      "text/plain": [
       "['Cardnum',\n",
       " 'Merchnum',\n",
       " 'Merch_description',\n",
       " 'Merch_num_des',\n",
       " 'Merch_all_info',\n",
       " 'Card_Merchnum',\n",
       " 'Card_Merch_description',\n",
       " 'Card_Merch_state',\n",
       " 'Card_Merch_zip',\n",
       " 'Card_Merch_num_des',\n",
       " 'Card_Merch_num_state',\n",
       " 'Card_Merch_num_zip',\n",
       " 'Card_Merch_des_state',\n",
       " 'Card_Merch_des_zip',\n",
       " 'Card_Merch_state_zip',\n",
       " 'Card_Merch_num_des_state',\n",
       " 'Card_Merch_num_des_zip',\n",
       " 'Card_Merch_num_state_zip',\n",
       " 'Card_Merch_des_state_zip',\n",
       " 'Card_Merch_all_info']"
      ]
     },
     "execution_count": 92,
     "metadata": {},
     "output_type": "execute_result"
    }
   ],
   "source": [
    "# My original attributes is too large for my laptop to run\n",
    "# And I found that some attributes are not that useful tbh\n",
    "# So I subset it for cross entity uniqueness variables\n",
    "from operator import itemgetter\n",
    "attributes_2 = list(itemgetter(0,1,2,5,15)(attributes))\n",
    "for i in attributes[16:]:\n",
    "    attributes_2.append(i)\n",
    "attributes_2"
   ]
  },
  {
   "cell_type": "code",
   "execution_count": 93,
   "id": "29c1faf9",
   "metadata": {},
   "outputs": [
    {
     "name": "stdout",
     "output_type": "stream",
     "text": [
      "Run time for entity Cardnum in field Merchnum--------17.78s\n",
      "Run time for entity Cardnum in field Merch_description--------7.06s\n",
      "Run time for entity Cardnum in field Merch_num_des--------6.72s\n",
      "Run time for entity Cardnum in field Merch_all_info--------6.69s\n",
      "Run time for entity Cardnum in field Card_Merchnum--------6.29s\n",
      "Run time for entity Cardnum in field Card_Merch_description--------6.55s\n",
      "Run time for entity Cardnum in field Card_Merch_state--------6.31s\n",
      "Run time for entity Cardnum in field Card_Merch_zip--------5.75s\n",
      "Run time for entity Cardnum in field Card_Merch_num_des--------6.01s\n",
      "Run time for entity Cardnum in field Card_Merch_num_state--------5.90s\n",
      "Run time for entity Cardnum in field Card_Merch_num_zip--------5.81s\n",
      "Run time for entity Cardnum in field Card_Merch_des_state--------5.94s\n",
      "Run time for entity Cardnum in field Card_Merch_des_zip--------5.98s\n",
      "Run time for entity Cardnum in field Card_Merch_state_zip--------5.83s\n",
      "Run time for entity Cardnum in field Card_Merch_num_des_state--------6.19s\n",
      "Run time for entity Cardnum in field Card_Merch_num_des_zip--------6.26s\n",
      "Run time for entity Cardnum in field Card_Merch_num_state_zip--------6.40s\n",
      "Run time for entity Cardnum in field Card_Merch_des_state_zip--------6.48s\n",
      "Run time for entity Cardnum in field Card_Merch_all_info--------6.29s\n",
      "from Dataframe: 3_3_8_counts_entities_01_Cardnum\n",
      "new variables: 114   total variables: 114\n",
      "Total run time:2.26min\n",
      "Run time for entity Merchnum in field Cardnum--------129.92s\n",
      "Run time for entity Merchnum in field Merch_description--------108.74s\n",
      "Run time for entity Merchnum in field Merch_num_des--------142.08s\n",
      "Run time for entity Merchnum in field Merch_all_info--------129.91s\n",
      "Run time for entity Merchnum in field Card_Merchnum--------119.34s\n",
      "Run time for entity Merchnum in field Card_Merch_description--------121.08s\n",
      "Run time for entity Merchnum in field Card_Merch_state--------122.29s\n",
      "Run time for entity Merchnum in field Card_Merch_zip--------115.79s\n",
      "Run time for entity Merchnum in field Card_Merch_num_des--------128.00s\n",
      "Run time for entity Merchnum in field Card_Merch_num_state--------114.72s\n",
      "Run time for entity Merchnum in field Card_Merch_num_zip--------117.19s\n",
      "Run time for entity Merchnum in field Card_Merch_des_state--------138.94s\n",
      "Run time for entity Merchnum in field Card_Merch_des_zip--------117.11s\n",
      "Run time for entity Merchnum in field Card_Merch_state_zip--------128.02s\n",
      "Run time for entity Merchnum in field Card_Merch_num_des_state--------119.79s\n",
      "Run time for entity Merchnum in field Card_Merch_num_des_zip--------121.67s\n",
      "Run time for entity Merchnum in field Card_Merch_num_state_zip--------121.08s\n",
      "Run time for entity Merchnum in field Card_Merch_des_state_zip--------114.38s\n",
      "Run time for entity Merchnum in field Card_Merch_all_info--------113.28s\n",
      "from Dataframe: 3_3_8_counts_entities_02_Merchnum\n",
      "new variables: 114   total variables: 228\n",
      "Total run time:42.00min\n",
      "Run time for entity Merch_description in field Cardnum--------6.95s\n",
      "Run time for entity Merch_description in field Merchnum--------6.02s\n",
      "Run time for entity Merch_description in field Merch_num_des--------6.26s\n",
      "Run time for entity Merch_description in field Merch_all_info--------6.64s\n",
      "Run time for entity Merch_description in field Card_Merchnum--------7.08s\n",
      "Run time for entity Merch_description in field Card_Merch_description--------7.08s\n",
      "Run time for entity Merch_description in field Card_Merch_state--------6.64s\n",
      "Run time for entity Merch_description in field Card_Merch_zip--------6.63s\n",
      "Run time for entity Merch_description in field Card_Merch_num_des--------6.84s\n",
      "Run time for entity Merch_description in field Card_Merch_num_state--------7.17s\n",
      "Run time for entity Merch_description in field Card_Merch_num_zip--------6.76s\n",
      "Run time for entity Merch_description in field Card_Merch_des_state--------6.67s\n",
      "Run time for entity Merch_description in field Card_Merch_des_zip--------6.86s\n",
      "Run time for entity Merch_description in field Card_Merch_state_zip--------6.67s\n",
      "Run time for entity Merch_description in field Card_Merch_num_des_state--------6.75s\n",
      "Run time for entity Merch_description in field Card_Merch_num_des_zip--------6.69s\n",
      "Run time for entity Merch_description in field Card_Merch_num_state_zip--------6.66s\n",
      "Run time for entity Merch_description in field Card_Merch_des_state_zip--------6.62s\n",
      "Run time for entity Merch_description in field Card_Merch_all_info--------6.64s\n",
      "from Dataframe: 3_3_8_counts_entities_03_Merch_description\n",
      "new variables: 114   total variables: 342\n",
      "Total run time:44.22min\n",
      "Run time for entity Merch_num_des in field Cardnum--------5.63s\n",
      "Run time for entity Merch_num_des in field Merchnum--------4.94s\n",
      "Run time for entity Merch_num_des in field Merch_description--------5.00s\n",
      "Run time for entity Merch_num_des in field Merch_all_info--------5.27s\n",
      "Run time for entity Merch_num_des in field Card_Merchnum--------5.39s\n",
      "Run time for entity Merch_num_des in field Card_Merch_description--------5.35s\n",
      "Run time for entity Merch_num_des in field Card_Merch_state--------5.52s\n",
      "Run time for entity Merch_num_des in field Card_Merch_zip--------5.39s\n",
      "Run time for entity Merch_num_des in field Card_Merch_num_des--------5.41s\n",
      "Run time for entity Merch_num_des in field Card_Merch_num_state--------5.44s\n",
      "Run time for entity Merch_num_des in field Card_Merch_num_zip--------5.63s\n",
      "Run time for entity Merch_num_des in field Card_Merch_des_state--------5.54s\n",
      "Run time for entity Merch_num_des in field Card_Merch_des_zip--------5.44s\n",
      "Run time for entity Merch_num_des in field Card_Merch_state_zip--------5.38s\n",
      "Run time for entity Merch_num_des in field Card_Merch_num_des_state--------5.42s\n",
      "Run time for entity Merch_num_des in field Card_Merch_num_des_zip--------5.42s\n",
      "Run time for entity Merch_num_des in field Card_Merch_num_state_zip--------5.58s\n",
      "Run time for entity Merch_num_des in field Card_Merch_des_state_zip--------5.66s\n",
      "Run time for entity Merch_num_des in field Card_Merch_all_info--------5.55s\n",
      "from Dataframe: 3_3_8_counts_entities_04_Merch_num_des\n",
      "new variables: 114   total variables: 456\n",
      "Total run time:46.01min\n",
      "Run time for entity Merch_all_info in field Cardnum--------5.48s\n",
      "Run time for entity Merch_all_info in field Merchnum--------4.99s\n",
      "Run time for entity Merch_all_info in field Merch_description--------4.99s\n",
      "Run time for entity Merch_all_info in field Merch_num_des--------5.27s\n",
      "Run time for entity Merch_all_info in field Card_Merchnum--------5.47s\n",
      "Run time for entity Merch_all_info in field Card_Merch_description--------5.35s\n",
      "Run time for entity Merch_all_info in field Card_Merch_state--------5.31s\n",
      "Run time for entity Merch_all_info in field Card_Merch_zip--------5.38s\n",
      "Run time for entity Merch_all_info in field Card_Merch_num_des--------5.44s\n",
      "Run time for entity Merch_all_info in field Card_Merch_num_state--------5.44s\n",
      "Run time for entity Merch_all_info in field Card_Merch_num_zip--------5.44s\n",
      "Run time for entity Merch_all_info in field Card_Merch_des_state--------5.42s\n",
      "Run time for entity Merch_all_info in field Card_Merch_des_zip--------5.51s\n",
      "Run time for entity Merch_all_info in field Card_Merch_state_zip--------5.36s\n",
      "Run time for entity Merch_all_info in field Card_Merch_num_des_state--------5.52s\n",
      "Run time for entity Merch_all_info in field Card_Merch_num_des_zip--------5.48s\n",
      "Run time for entity Merch_all_info in field Card_Merch_num_state_zip--------5.39s\n",
      "Run time for entity Merch_all_info in field Card_Merch_des_state_zip--------5.37s\n",
      "Run time for entity Merch_all_info in field Card_Merch_all_info--------5.48s\n",
      "from Dataframe: 3_3_8_counts_entities_05_Merch_all_info\n",
      "new variables: 114   total variables: 570\n",
      "Total run time:47.80min\n",
      "Run time for entity Card_Merchnum in field Cardnum--------1.47s\n",
      "Run time for entity Card_Merchnum in field Merchnum--------1.36s\n",
      "Run time for entity Card_Merchnum in field Merch_description--------1.41s\n",
      "Run time for entity Card_Merchnum in field Merch_num_des--------1.56s\n",
      "Run time for entity Card_Merchnum in field Merch_all_info--------1.53s\n",
      "Run time for entity Card_Merchnum in field Card_Merch_description--------1.44s\n",
      "Run time for entity Card_Merchnum in field Card_Merch_state--------1.35s\n",
      "Run time for entity Card_Merchnum in field Card_Merch_zip--------1.35s\n"
     ]
    },
    {
     "name": "stdout",
     "output_type": "stream",
     "text": [
      "Run time for entity Card_Merchnum in field Card_Merch_num_des--------1.42s\n",
      "Run time for entity Card_Merchnum in field Card_Merch_num_state--------1.33s\n",
      "Run time for entity Card_Merchnum in field Card_Merch_num_zip--------1.36s\n",
      "Run time for entity Card_Merchnum in field Card_Merch_des_state--------1.47s\n",
      "Run time for entity Card_Merchnum in field Card_Merch_des_zip--------1.43s\n",
      "Run time for entity Card_Merchnum in field Card_Merch_state_zip--------1.37s\n",
      "Run time for entity Card_Merchnum in field Card_Merch_num_des_state--------1.45s\n",
      "Run time for entity Card_Merchnum in field Card_Merch_num_des_zip--------1.53s\n",
      "Run time for entity Card_Merchnum in field Card_Merch_num_state_zip--------1.39s\n",
      "Run time for entity Card_Merchnum in field Card_Merch_des_state_zip--------1.46s\n",
      "Run time for entity Card_Merchnum in field Card_Merch_all_info--------1.51s\n",
      "from Dataframe: 3_3_8_counts_entities_06_Card_Merchnum\n",
      "new variables: 114   total variables: 684\n",
      "Total run time:48.31min\n",
      "Run time for entity Card_Merch_description in field Cardnum--------0.74s\n",
      "Run time for entity Card_Merch_description in field Merchnum--------0.67s\n",
      "Run time for entity Card_Merch_description in field Merch_description--------0.66s\n",
      "Run time for entity Card_Merch_description in field Merch_num_des--------0.75s\n",
      "Run time for entity Card_Merch_description in field Merch_all_info--------0.75s\n",
      "Run time for entity Card_Merch_description in field Card_Merchnum--------0.72s\n",
      "Run time for entity Card_Merch_description in field Card_Merch_state--------0.73s\n",
      "Run time for entity Card_Merch_description in field Card_Merch_zip--------0.73s\n",
      "Run time for entity Card_Merch_description in field Card_Merch_num_des--------0.70s\n",
      "Run time for entity Card_Merch_description in field Card_Merch_num_state--------0.71s\n",
      "Run time for entity Card_Merch_description in field Card_Merch_num_zip--------0.72s\n",
      "Run time for entity Card_Merch_description in field Card_Merch_des_state--------0.69s\n",
      "Run time for entity Card_Merch_description in field Card_Merch_des_zip--------0.72s\n",
      "Run time for entity Card_Merch_description in field Card_Merch_state_zip--------0.71s\n",
      "Run time for entity Card_Merch_description in field Card_Merch_num_des_state--------0.71s\n",
      "Run time for entity Card_Merch_description in field Card_Merch_num_des_zip--------0.72s\n",
      "Run time for entity Card_Merch_description in field Card_Merch_num_state_zip--------0.73s\n",
      "Run time for entity Card_Merch_description in field Card_Merch_des_state_zip--------0.69s\n",
      "Run time for entity Card_Merch_description in field Card_Merch_all_info--------0.72s\n",
      "from Dataframe: 3_3_8_counts_entities_07_Card_Merch_description\n",
      "new variables: 114   total variables: 798\n",
      "Total run time:48.59min\n",
      "Run time for entity Card_Merch_state in field Cardnum--------2.22s\n",
      "Run time for entity Card_Merch_state in field Merchnum--------2.26s\n",
      "Run time for entity Card_Merch_state in field Merch_description--------2.32s\n",
      "Run time for entity Card_Merch_state in field Merch_num_des--------2.40s\n",
      "Run time for entity Card_Merch_state in field Merch_all_info--------2.42s\n",
      "Run time for entity Card_Merch_state in field Card_Merchnum--------2.33s\n",
      "Run time for entity Card_Merch_state in field Card_Merch_description--------2.32s\n",
      "Run time for entity Card_Merch_state in field Card_Merch_zip--------2.28s\n",
      "Run time for entity Card_Merch_state in field Card_Merch_num_des--------2.35s\n",
      "Run time for entity Card_Merch_state in field Card_Merch_num_state--------2.30s\n",
      "Run time for entity Card_Merch_state in field Card_Merch_num_zip--------2.41s\n",
      "Run time for entity Card_Merch_state in field Card_Merch_des_state--------2.41s\n",
      "Run time for entity Card_Merch_state in field Card_Merch_des_zip--------2.37s\n",
      "Run time for entity Card_Merch_state in field Card_Merch_state_zip--------2.26s\n",
      "Run time for entity Card_Merch_state in field Card_Merch_num_des_state--------2.35s\n",
      "Run time for entity Card_Merch_state in field Card_Merch_num_des_zip--------2.36s\n",
      "Run time for entity Card_Merch_state in field Card_Merch_num_state_zip--------2.32s\n",
      "Run time for entity Card_Merch_state in field Card_Merch_des_state_zip--------2.32s\n",
      "Run time for entity Card_Merch_state in field Card_Merch_all_info--------2.35s\n",
      "from Dataframe: 3_3_8_counts_entities_08_Card_Merch_state\n",
      "new variables: 114   total variables: 912\n",
      "Total run time:49.38min\n",
      "Run time for entity Card_Merch_zip in field Cardnum--------1.81s\n",
      "Run time for entity Card_Merch_zip in field Merchnum--------1.79s\n",
      "Run time for entity Card_Merch_zip in field Merch_description--------1.80s\n",
      "Run time for entity Card_Merch_zip in field Merch_num_des--------1.90s\n",
      "Run time for entity Card_Merch_zip in field Merch_all_info--------1.90s\n",
      "Run time for entity Card_Merch_zip in field Card_Merchnum--------1.78s\n",
      "Run time for entity Card_Merch_zip in field Card_Merch_description--------1.83s\n",
      "Run time for entity Card_Merch_zip in field Card_Merch_state--------1.71s\n",
      "Run time for entity Card_Merch_zip in field Card_Merch_num_des--------1.96s\n",
      "Run time for entity Card_Merch_zip in field Card_Merch_num_state--------1.77s\n",
      "Run time for entity Card_Merch_zip in field Card_Merch_num_zip--------1.76s\n",
      "Run time for entity Card_Merch_zip in field Card_Merch_des_state--------1.90s\n",
      "Run time for entity Card_Merch_zip in field Card_Merch_des_zip--------1.82s\n",
      "Run time for entity Card_Merch_zip in field Card_Merch_state_zip--------1.79s\n",
      "Run time for entity Card_Merch_zip in field Card_Merch_num_des_state--------1.86s\n",
      "Run time for entity Card_Merch_zip in field Card_Merch_num_des_zip--------1.87s\n",
      "Run time for entity Card_Merch_zip in field Card_Merch_num_state_zip--------1.79s\n",
      "Run time for entity Card_Merch_zip in field Card_Merch_des_state_zip--------1.85s\n",
      "Run time for entity Card_Merch_zip in field Card_Merch_all_info--------1.91s\n",
      "from Dataframe: 3_3_8_counts_entities_09_Card_Merch_zip\n",
      "new variables: 114   total variables: 1026\n",
      "Total run time:50.01min\n",
      "Run time for entity Card_Merch_num_des in field Cardnum--------0.70s\n",
      "Run time for entity Card_Merch_num_des in field Merchnum--------0.63s\n",
      "Run time for entity Card_Merch_num_des in field Merch_description--------0.65s\n",
      "Run time for entity Card_Merch_num_des in field Merch_num_des--------0.72s\n",
      "Run time for entity Card_Merch_num_des in field Merch_all_info--------0.74s\n",
      "Run time for entity Card_Merch_num_des in field Card_Merchnum--------0.71s\n",
      "Run time for entity Card_Merch_num_des in field Card_Merch_description--------0.73s\n",
      "Run time for entity Card_Merch_num_des in field Card_Merch_state--------0.72s\n",
      "Run time for entity Card_Merch_num_des in field Card_Merch_zip--------0.80s\n",
      "Run time for entity Card_Merch_num_des in field Card_Merch_num_state--------0.97s\n",
      "Run time for entity Card_Merch_num_des in field Card_Merch_num_zip--------0.68s\n",
      "Run time for entity Card_Merch_num_des in field Card_Merch_des_state--------0.67s\n",
      "Run time for entity Card_Merch_num_des in field Card_Merch_des_zip--------0.68s\n",
      "Run time for entity Card_Merch_num_des in field Card_Merch_state_zip--------0.69s\n",
      "Run time for entity Card_Merch_num_des in field Card_Merch_num_des_state--------0.68s\n",
      "Run time for entity Card_Merch_num_des in field Card_Merch_num_des_zip--------0.71s\n",
      "Run time for entity Card_Merch_num_des in field Card_Merch_num_state_zip--------0.68s\n",
      "Run time for entity Card_Merch_num_des in field Card_Merch_des_state_zip--------0.69s\n",
      "Run time for entity Card_Merch_num_des in field Card_Merch_all_info--------0.70s\n",
      "from Dataframe: 3_3_8_counts_entities_10_Card_Merch_num_des\n",
      "new variables: 114   total variables: 1140\n",
      "Total run time:50.29min\n",
      "Run time for entity Card_Merch_num_state in field Cardnum--------1.44s\n",
      "Run time for entity Card_Merch_num_state in field Merchnum--------1.39s\n",
      "Run time for entity Card_Merch_num_state in field Merch_description--------1.43s\n",
      "Run time for entity Card_Merch_num_state in field Merch_num_des--------1.44s\n",
      "Run time for entity Card_Merch_num_state in field Merch_all_info--------1.45s\n",
      "Run time for entity Card_Merch_num_state in field Card_Merchnum--------1.34s\n",
      "Run time for entity Card_Merch_num_state in field Card_Merch_description--------1.41s\n",
      "Run time for entity Card_Merch_num_state in field Card_Merch_state--------1.36s\n",
      "Run time for entity Card_Merch_num_state in field Card_Merch_zip--------1.34s\n",
      "Run time for entity Card_Merch_num_state in field Card_Merch_num_des--------1.42s\n"
     ]
    },
    {
     "name": "stdout",
     "output_type": "stream",
     "text": [
      "Run time for entity Card_Merch_num_state in field Card_Merch_num_zip--------1.32s\n",
      "Run time for entity Card_Merch_num_state in field Card_Merch_des_state--------1.40s\n",
      "Run time for entity Card_Merch_num_state in field Card_Merch_des_zip--------1.42s\n",
      "Run time for entity Card_Merch_num_state in field Card_Merch_state_zip--------1.37s\n",
      "Run time for entity Card_Merch_num_state in field Card_Merch_num_des_state--------1.42s\n",
      "Run time for entity Card_Merch_num_state in field Card_Merch_num_des_zip--------1.43s\n",
      "Run time for entity Card_Merch_num_state in field Card_Merch_num_state_zip--------1.35s\n",
      "Run time for entity Card_Merch_num_state in field Card_Merch_des_state_zip--------1.42s\n",
      "Run time for entity Card_Merch_num_state in field Card_Merch_all_info--------1.44s\n",
      "from Dataframe: 3_3_8_counts_entities_11_Card_Merch_num_state\n",
      "new variables: 114   total variables: 1254\n",
      "Total run time:50.79min\n",
      "Run time for entity Card_Merch_num_zip in field Cardnum--------1.39s\n",
      "Run time for entity Card_Merch_num_zip in field Merchnum--------1.39s\n",
      "Run time for entity Card_Merch_num_zip in field Merch_description--------1.45s\n",
      "Run time for entity Card_Merch_num_zip in field Merch_num_des--------1.48s\n",
      "Run time for entity Card_Merch_num_zip in field Merch_all_info--------1.49s\n",
      "Run time for entity Card_Merch_num_zip in field Card_Merchnum--------1.38s\n",
      "Run time for entity Card_Merch_num_zip in field Card_Merch_description--------1.42s\n",
      "Run time for entity Card_Merch_num_zip in field Card_Merch_state--------1.37s\n",
      "Run time for entity Card_Merch_num_zip in field Card_Merch_zip--------1.37s\n",
      "Run time for entity Card_Merch_num_zip in field Card_Merch_num_des--------1.46s\n",
      "Run time for entity Card_Merch_num_zip in field Card_Merch_num_state--------1.36s\n",
      "Run time for entity Card_Merch_num_zip in field Card_Merch_des_state--------1.44s\n",
      "Run time for entity Card_Merch_num_zip in field Card_Merch_des_zip--------1.45s\n",
      "Run time for entity Card_Merch_num_zip in field Card_Merch_state_zip--------1.40s\n",
      "Run time for entity Card_Merch_num_zip in field Card_Merch_num_des_state--------1.47s\n",
      "Run time for entity Card_Merch_num_zip in field Card_Merch_num_des_zip--------1.49s\n",
      "Run time for entity Card_Merch_num_zip in field Card_Merch_num_state_zip--------1.43s\n",
      "Run time for entity Card_Merch_num_zip in field Card_Merch_des_state_zip--------1.66s\n",
      "Run time for entity Card_Merch_num_zip in field Card_Merch_all_info--------1.61s\n",
      "from Dataframe: 3_3_8_counts_entities_12_Card_Merch_num_zip\n",
      "new variables: 114   total variables: 1368\n",
      "Total run time:51.30min\n",
      "Run time for entity Card_Merch_des_state in field Cardnum--------0.72s\n",
      "Run time for entity Card_Merch_des_state in field Merchnum--------0.64s\n",
      "Run time for entity Card_Merch_des_state in field Merch_description--------0.75s\n",
      "Run time for entity Card_Merch_des_state in field Merch_num_des--------0.73s\n",
      "Run time for entity Card_Merch_des_state in field Merch_all_info--------0.89s\n",
      "Run time for entity Card_Merch_des_state in field Card_Merchnum--------0.72s\n",
      "Run time for entity Card_Merch_des_state in field Card_Merch_description--------0.74s\n",
      "Run time for entity Card_Merch_des_state in field Card_Merch_state--------0.73s\n",
      "Run time for entity Card_Merch_des_state in field Card_Merch_zip--------0.74s\n",
      "Run time for entity Card_Merch_des_state in field Card_Merch_num_des--------0.75s\n",
      "Run time for entity Card_Merch_des_state in field Card_Merch_num_state--------0.71s\n",
      "Run time for entity Card_Merch_des_state in field Card_Merch_num_zip--------0.91s\n",
      "Run time for entity Card_Merch_des_state in field Card_Merch_des_zip--------0.80s\n",
      "Run time for entity Card_Merch_des_state in field Card_Merch_state_zip--------1.13s\n",
      "Run time for entity Card_Merch_des_state in field Card_Merch_num_des_state--------0.72s\n",
      "Run time for entity Card_Merch_des_state in field Card_Merch_num_des_zip--------0.77s\n",
      "Run time for entity Card_Merch_des_state in field Card_Merch_num_state_zip--------0.76s\n",
      "Run time for entity Card_Merch_des_state in field Card_Merch_des_state_zip--------0.76s\n",
      "Run time for entity Card_Merch_des_state in field Card_Merch_all_info--------0.97s\n",
      "from Dataframe: 3_3_8_counts_entities_13_Card_Merch_des_state\n",
      "new variables: 114   total variables: 1482\n",
      "Total run time:51.61min\n",
      "Run time for entity Card_Merch_des_zip in field Cardnum--------0.71s\n",
      "Run time for entity Card_Merch_des_zip in field Merchnum--------0.68s\n",
      "Run time for entity Card_Merch_des_zip in field Merch_description--------0.68s\n",
      "Run time for entity Card_Merch_des_zip in field Merch_num_des--------0.74s\n",
      "Run time for entity Card_Merch_des_zip in field Merch_all_info--------0.74s\n",
      "Run time for entity Card_Merch_des_zip in field Card_Merchnum--------0.74s\n",
      "Run time for entity Card_Merch_des_zip in field Card_Merch_description--------0.77s\n",
      "Run time for entity Card_Merch_des_zip in field Card_Merch_state--------0.87s\n",
      "Run time for entity Card_Merch_des_zip in field Card_Merch_zip--------0.82s\n",
      "Run time for entity Card_Merch_des_zip in field Card_Merch_num_des--------0.73s\n",
      "Run time for entity Card_Merch_des_zip in field Card_Merch_num_state--------0.69s\n",
      "Run time for entity Card_Merch_des_zip in field Card_Merch_num_zip--------0.68s\n",
      "Run time for entity Card_Merch_des_zip in field Card_Merch_des_state--------0.69s\n",
      "Run time for entity Card_Merch_des_zip in field Card_Merch_state_zip--------0.68s\n",
      "Run time for entity Card_Merch_des_zip in field Card_Merch_num_des_state--------0.71s\n",
      "Run time for entity Card_Merch_des_zip in field Card_Merch_num_des_zip--------0.71s\n",
      "Run time for entity Card_Merch_des_zip in field Card_Merch_num_state_zip--------0.68s\n",
      "Run time for entity Card_Merch_des_zip in field Card_Merch_des_state_zip--------0.67s\n",
      "Run time for entity Card_Merch_des_zip in field Card_Merch_all_info--------0.72s\n",
      "from Dataframe: 3_3_8_counts_entities_14_Card_Merch_des_zip\n",
      "new variables: 114   total variables: 1596\n",
      "Total run time:51.89min\n",
      "Run time for entity Card_Merch_state_zip in field Cardnum--------1.84s\n",
      "Run time for entity Card_Merch_state_zip in field Merchnum--------1.71s\n",
      "Run time for entity Card_Merch_state_zip in field Merch_description--------1.74s\n",
      "Run time for entity Card_Merch_state_zip in field Merch_num_des--------1.84s\n",
      "Run time for entity Card_Merch_state_zip in field Merch_all_info--------1.99s\n",
      "Run time for entity Card_Merch_state_zip in field Card_Merchnum--------1.86s\n",
      "Run time for entity Card_Merch_state_zip in field Card_Merch_description--------1.89s\n",
      "Run time for entity Card_Merch_state_zip in field Card_Merch_state--------1.66s\n",
      "Run time for entity Card_Merch_state_zip in field Card_Merch_zip--------1.69s\n",
      "Run time for entity Card_Merch_state_zip in field Card_Merch_num_des--------1.79s\n",
      "Run time for entity Card_Merch_state_zip in field Card_Merch_num_state--------1.72s\n",
      "Run time for entity Card_Merch_state_zip in field Card_Merch_num_zip--------1.70s\n",
      "Run time for entity Card_Merch_state_zip in field Card_Merch_des_state--------1.77s\n",
      "Run time for entity Card_Merch_state_zip in field Card_Merch_des_zip--------1.75s\n",
      "Run time for entity Card_Merch_state_zip in field Card_Merch_num_des_state--------1.82s\n",
      "Run time for entity Card_Merch_state_zip in field Card_Merch_num_des_zip--------1.80s\n",
      "Run time for entity Card_Merch_state_zip in field Card_Merch_num_state_zip--------1.73s\n",
      "Run time for entity Card_Merch_state_zip in field Card_Merch_des_state_zip--------1.87s\n",
      "Run time for entity Card_Merch_state_zip in field Card_Merch_all_info--------1.91s\n",
      "from Dataframe: 3_3_8_counts_entities_15_Card_Merch_state_zip\n",
      "new variables: 114   total variables: 1710\n",
      "Total run time:52.51min\n",
      "Run time for entity Card_Merch_num_des_state in field Cardnum--------0.70s\n",
      "Run time for entity Card_Merch_num_des_state in field Merchnum--------0.63s\n",
      "Run time for entity Card_Merch_num_des_state in field Merch_description--------0.64s\n",
      "Run time for entity Card_Merch_num_des_state in field Merch_num_des--------0.71s\n",
      "Run time for entity Card_Merch_num_des_state in field Merch_all_info--------0.72s\n",
      "Run time for entity Card_Merch_num_des_state in field Card_Merchnum--------0.68s\n",
      "Run time for entity Card_Merch_num_des_state in field Card_Merch_description--------0.68s\n",
      "Run time for entity Card_Merch_num_des_state in field Card_Merch_state--------0.64s\n",
      "Run time for entity Card_Merch_num_des_state in field Card_Merch_zip--------0.66s\n"
     ]
    },
    {
     "name": "stdout",
     "output_type": "stream",
     "text": [
      "Run time for entity Card_Merch_num_des_state in field Card_Merch_num_des--------0.67s\n",
      "Run time for entity Card_Merch_num_des_state in field Card_Merch_num_state--------0.65s\n",
      "Run time for entity Card_Merch_num_des_state in field Card_Merch_num_zip--------0.65s\n",
      "Run time for entity Card_Merch_num_des_state in field Card_Merch_des_state--------0.66s\n",
      "Run time for entity Card_Merch_num_des_state in field Card_Merch_des_zip--------0.67s\n",
      "Run time for entity Card_Merch_num_des_state in field Card_Merch_state_zip--------0.65s\n",
      "Run time for entity Card_Merch_num_des_state in field Card_Merch_num_des_zip--------0.70s\n",
      "Run time for entity Card_Merch_num_des_state in field Card_Merch_num_state_zip--------0.67s\n",
      "Run time for entity Card_Merch_num_des_state in field Card_Merch_des_state_zip--------0.68s\n",
      "Run time for entity Card_Merch_num_des_state in field Card_Merch_all_info--------0.68s\n",
      "from Dataframe: 3_3_8_counts_entities_16_Card_Merch_num_des_state\n",
      "new variables: 114   total variables: 1824\n",
      "Total run time:52.78min\n",
      "Run time for entity Card_Merch_num_des_zip in field Cardnum--------0.69s\n",
      "Run time for entity Card_Merch_num_des_zip in field Merchnum--------0.64s\n",
      "Run time for entity Card_Merch_num_des_zip in field Merch_description--------0.65s\n",
      "Run time for entity Card_Merch_num_des_zip in field Merch_num_des--------0.73s\n",
      "Run time for entity Card_Merch_num_des_zip in field Merch_all_info--------0.69s\n",
      "Run time for entity Card_Merch_num_des_zip in field Card_Merchnum--------0.67s\n",
      "Run time for entity Card_Merch_num_des_zip in field Card_Merch_description--------0.66s\n",
      "Run time for entity Card_Merch_num_des_zip in field Card_Merch_state--------0.65s\n",
      "Run time for entity Card_Merch_num_des_zip in field Card_Merch_zip--------0.66s\n",
      "Run time for entity Card_Merch_num_des_zip in field Card_Merch_num_des--------0.70s\n",
      "Run time for entity Card_Merch_num_des_zip in field Card_Merch_num_state--------0.69s\n",
      "Run time for entity Card_Merch_num_des_zip in field Card_Merch_num_zip--------0.70s\n",
      "Run time for entity Card_Merch_num_des_zip in field Card_Merch_des_state--------0.69s\n",
      "Run time for entity Card_Merch_num_des_zip in field Card_Merch_des_zip--------0.70s\n",
      "Run time for entity Card_Merch_num_des_zip in field Card_Merch_state_zip--------0.69s\n",
      "Run time for entity Card_Merch_num_des_zip in field Card_Merch_num_des_state--------0.69s\n",
      "Run time for entity Card_Merch_num_des_zip in field Card_Merch_num_state_zip--------0.68s\n",
      "Run time for entity Card_Merch_num_des_zip in field Card_Merch_des_state_zip--------0.68s\n",
      "Run time for entity Card_Merch_num_des_zip in field Card_Merch_all_info--------0.69s\n",
      "from Dataframe: 3_3_8_counts_entities_17_Card_Merch_num_des_zip\n",
      "new variables: 114   total variables: 1938\n",
      "Total run time:53.04min\n",
      "Run time for entity Card_Merch_num_state_zip in field Cardnum--------1.39s\n",
      "Run time for entity Card_Merch_num_state_zip in field Merchnum--------1.34s\n",
      "Run time for entity Card_Merch_num_state_zip in field Merch_description--------1.39s\n",
      "Run time for entity Card_Merch_num_state_zip in field Merch_num_des--------1.50s\n",
      "Run time for entity Card_Merch_num_state_zip in field Merch_all_info--------1.55s\n",
      "Run time for entity Card_Merch_num_state_zip in field Card_Merchnum--------1.34s\n",
      "Run time for entity Card_Merch_num_state_zip in field Card_Merch_description--------1.43s\n",
      "Run time for entity Card_Merch_num_state_zip in field Card_Merch_state--------1.37s\n",
      "Run time for entity Card_Merch_num_state_zip in field Card_Merch_zip--------1.34s\n",
      "Run time for entity Card_Merch_num_state_zip in field Card_Merch_num_des--------1.46s\n",
      "Run time for entity Card_Merch_num_state_zip in field Card_Merch_num_state--------1.36s\n",
      "Run time for entity Card_Merch_num_state_zip in field Card_Merch_num_zip--------1.36s\n",
      "Run time for entity Card_Merch_num_state_zip in field Card_Merch_des_state--------1.42s\n",
      "Run time for entity Card_Merch_num_state_zip in field Card_Merch_des_zip--------1.42s\n",
      "Run time for entity Card_Merch_num_state_zip in field Card_Merch_state_zip--------1.38s\n",
      "Run time for entity Card_Merch_num_state_zip in field Card_Merch_num_des_state--------1.50s\n",
      "Run time for entity Card_Merch_num_state_zip in field Card_Merch_num_des_zip--------1.48s\n",
      "Run time for entity Card_Merch_num_state_zip in field Card_Merch_des_state_zip--------1.46s\n",
      "Run time for entity Card_Merch_num_state_zip in field Card_Merch_all_info--------1.44s\n",
      "from Dataframe: 3_3_8_counts_entities_18_Card_Merch_num_state_zip\n",
      "new variables: 114   total variables: 2052\n",
      "Total run time:53.55min\n",
      "Run time for entity Card_Merch_des_state_zip in field Cardnum--------0.72s\n",
      "Run time for entity Card_Merch_des_state_zip in field Merchnum--------0.67s\n",
      "Run time for entity Card_Merch_des_state_zip in field Merch_description--------0.66s\n",
      "Run time for entity Card_Merch_des_state_zip in field Merch_num_des--------0.75s\n",
      "Run time for entity Card_Merch_des_state_zip in field Merch_all_info--------0.75s\n",
      "Run time for entity Card_Merch_des_state_zip in field Card_Merchnum--------0.69s\n",
      "Run time for entity Card_Merch_des_state_zip in field Card_Merch_description--------0.68s\n",
      "Run time for entity Card_Merch_des_state_zip in field Card_Merch_state--------0.68s\n",
      "Run time for entity Card_Merch_des_state_zip in field Card_Merch_zip--------0.68s\n",
      "Run time for entity Card_Merch_des_state_zip in field Card_Merch_num_des--------0.69s\n",
      "Run time for entity Card_Merch_des_state_zip in field Card_Merch_num_state--------0.68s\n",
      "Run time for entity Card_Merch_des_state_zip in field Card_Merch_num_zip--------0.70s\n",
      "Run time for entity Card_Merch_des_state_zip in field Card_Merch_des_state--------0.68s\n",
      "Run time for entity Card_Merch_des_state_zip in field Card_Merch_des_zip--------0.68s\n",
      "Run time for entity Card_Merch_des_state_zip in field Card_Merch_state_zip--------0.68s\n",
      "Run time for entity Card_Merch_des_state_zip in field Card_Merch_num_des_state--------0.72s\n",
      "Run time for entity Card_Merch_des_state_zip in field Card_Merch_num_des_zip--------0.71s\n",
      "Run time for entity Card_Merch_des_state_zip in field Card_Merch_num_state_zip--------0.70s\n",
      "Run time for entity Card_Merch_des_state_zip in field Card_Merch_all_info--------0.71s\n",
      "from Dataframe: 3_3_8_counts_entities_19_Card_Merch_des_state_zip\n",
      "new variables: 114   total variables: 2166\n",
      "Total run time:53.82min\n",
      "Run time for entity Card_Merch_all_info in field Cardnum--------0.69s\n",
      "Run time for entity Card_Merch_all_info in field Merchnum--------0.62s\n",
      "Run time for entity Card_Merch_all_info in field Merch_description--------0.63s\n",
      "Run time for entity Card_Merch_all_info in field Merch_num_des--------0.71s\n",
      "Run time for entity Card_Merch_all_info in field Merch_all_info--------0.71s\n",
      "Run time for entity Card_Merch_all_info in field Card_Merchnum--------0.67s\n",
      "Run time for entity Card_Merch_all_info in field Card_Merch_description--------0.66s\n",
      "Run time for entity Card_Merch_all_info in field Card_Merch_state--------0.66s\n",
      "Run time for entity Card_Merch_all_info in field Card_Merch_zip--------0.66s\n",
      "Run time for entity Card_Merch_all_info in field Card_Merch_num_des--------0.69s\n",
      "Run time for entity Card_Merch_all_info in field Card_Merch_num_state--------0.65s\n",
      "Run time for entity Card_Merch_all_info in field Card_Merch_num_zip--------0.66s\n",
      "Run time for entity Card_Merch_all_info in field Card_Merch_des_state--------0.66s\n",
      "Run time for entity Card_Merch_all_info in field Card_Merch_des_zip--------0.66s\n",
      "Run time for entity Card_Merch_all_info in field Card_Merch_state_zip--------0.66s\n",
      "Run time for entity Card_Merch_all_info in field Card_Merch_num_des_state--------0.69s\n",
      "Run time for entity Card_Merch_all_info in field Card_Merch_num_des_zip--------0.67s\n",
      "Run time for entity Card_Merch_all_info in field Card_Merch_num_state_zip--------0.69s\n",
      "Run time for entity Card_Merch_all_info in field Card_Merch_des_state_zip--------0.67s\n",
      "from Dataframe: 3_3_8_counts_entities_20_Card_Merch_all_info\n",
      "new variables: 114   total variables: 2280\n",
      "Total run time:54.08min\n",
      "CPU times: user 25min 13s, sys: 31min 4s, total: 56min 18s\n",
      "Wall time: 54min 5s\n"
     ]
    }
   ],
   "source": [
    "%%time\n",
    "begin=time.time()\n",
    "\n",
    "count_attributes = 0 # For naming only\n",
    "\n",
    "for i in attributes_2:\n",
    "    \n",
    "    count_attributes += 1\n",
    "    vars_3_3_8_i = fraud_label.copy() \n",
    "    \n",
    "    for v in attributes_2:\n",
    "        st=time.time()\n",
    "        if i==v:\n",
    "            continue\n",
    "        else:\n",
    "            df_c=df[['Recnum','Date',i]]\n",
    "            df_d=df[['check_Recnum','check_Date',i,v]]\n",
    "            temp=pd.merge(df_c,df_d,left_on=i,right_on=i)\n",
    "        \n",
    "        #number of unique for particular field\n",
    "        for t in[0,1,3,7,14,30]:\n",
    "            count_day_df = temp[((temp.check_Date)>=(temp.Date-dt.timedelta(t)))\n",
    "                          &(temp.Recnum>=temp.check_Recnum)]\n",
    "            col_name = f'{i}_unique_count_for_{v}_{t}'\n",
    "            mapper = count_day_df.groupby(['Recnum'])[v].nunique()\n",
    "            vars_3_3_8_i[col_name] = vars_3_3_8_i.Recnum.map(mapper)\n",
    "        \n",
    "        print(f'Run time for entity {i} in field {v}--------{time.time()-st:0.2f}s')\n",
    "\n",
    "        del df_c, df_d, temp\n",
    "        \n",
    "        vars_3_3_8_i = vars_3_3_8_i.copy() # solve for fragmented DataFrame\n",
    "    \n",
    "    dataframe_name = '3_3_8_counts_entities_' + '{0:0>2}'.format(count_attributes) + '_' + i \n",
    "    writing_csv(vars_3_3_8_i, dataframe_name)\n",
    "    num_column_count(vars_3_3_8_i, dataframe_name)\n",
    "    del vars_3_3_8_i\n",
    "\n",
    "    print(f'Total run time:{(time.time()-begin)/60:0.2f}min')\n",
    "        "
   ]
  },
  {
   "cell_type": "markdown",
   "id": "19e05d3f",
   "metadata": {},
   "source": [
    "## Summary "
   ]
  },
  {
   "cell_type": "code",
   "execution_count": 249,
   "id": "07a89314",
   "metadata": {},
   "outputs": [],
   "source": [
    "# The num_column_count function should count the number of variable for me\n",
    "# But I ran my code while I wrote the notebook\n",
    "# Unfortunately my kernel died many times so the record lost\n",
    "# I commented my making_variable codes after I successfully generated the CSV file \n",
    "# So if the kernel died, I don't have to run them again because I got my CSV files containing all my variables\n",
    "# I lose most of the tracing times because of the died kernel as well, but rerun them are too painful\n",
    "# I'll just use my CSV files to do the summary and estimate the time I use\n",
    "\n",
    "import glob\n",
    "\n",
    "joined_files_3_ = glob.glob('output/3_3_*.csv')\n",
    "count_var = []\n",
    "sum_var = 0\n",
    "\n",
    "for i in range(len(joined_files_3_)):\n",
    "    dt = pd.read_csv(joined_files_3_[i])\n",
    "    count_var.append(dt.shape[1]-2) # remove Recnum and Fraud\n",
    "    sum_var += count_var[i]"
   ]
  },
  {
   "cell_type": "code",
   "execution_count": 253,
   "id": "45f2f0e9",
   "metadata": {},
   "outputs": [
    {
     "name": "stdout",
     "output_type": "stream",
     "text": [
      "4795\n"
     ]
    }
   ],
   "source": [
    "sum_v = sum_var\n",
    "sum_v = sum_v - (41-5)  \n",
    "# 41 is the #col in '3_3_1_bf_law_dedup.csv'\n",
    "# 5 is the #col that I need to keep in that csv file for further feature selection\n",
    "print(sum_v)"
   ]
  },
  {
   "cell_type": "code",
   "execution_count": 247,
   "id": "5f492ba1",
   "metadata": {},
   "outputs": [
    {
     "data": {
      "text/html": [
       "<div>\n",
       "<style scoped>\n",
       "    .dataframe tbody tr th:only-of-type {\n",
       "        vertical-align: middle;\n",
       "    }\n",
       "\n",
       "    .dataframe tbody tr th {\n",
       "        vertical-align: top;\n",
       "    }\n",
       "\n",
       "    .dataframe thead th {\n",
       "        text-align: right;\n",
       "    }\n",
       "</style>\n",
       "<table border=\"1\" class=\"dataframe\">\n",
       "  <thead>\n",
       "    <tr style=\"text-align: right;\">\n",
       "      <th></th>\n",
       "      <th>csv</th>\n",
       "      <th>count_var</th>\n",
       "    </tr>\n",
       "  </thead>\n",
       "  <tbody>\n",
       "    <tr>\n",
       "      <th>0</th>\n",
       "      <td>output/3_3_8_counts_entities_03_Merch_descript...</td>\n",
       "      <td>114</td>\n",
       "    </tr>\n",
       "    <tr>\n",
       "      <th>1</th>\n",
       "      <td>output/3_3_8_counts_entities_14_Card_Merch_des...</td>\n",
       "      <td>114</td>\n",
       "    </tr>\n",
       "    <tr>\n",
       "      <th>2</th>\n",
       "      <td>output/3_3_8_counts_entities_01_Cardnum.csv</td>\n",
       "      <td>114</td>\n",
       "    </tr>\n",
       "    <tr>\n",
       "      <th>3</th>\n",
       "      <td>output/3_3_8_counts_entities_07_Card_Merch_des...</td>\n",
       "      <td>114</td>\n",
       "    </tr>\n",
       "    <tr>\n",
       "      <th>4</th>\n",
       "      <td>output/3_3_8_counts_entities_17_Card_Merch_num...</td>\n",
       "      <td>114</td>\n",
       "    </tr>\n",
       "    <tr>\n",
       "      <th>5</th>\n",
       "      <td>output/3_3_7_variability.csv</td>\n",
       "      <td>558</td>\n",
       "    </tr>\n",
       "    <tr>\n",
       "      <th>6</th>\n",
       "      <td>output/3_3_8_counts_entities_08_Card_Merch_sta...</td>\n",
       "      <td>114</td>\n",
       "    </tr>\n",
       "    <tr>\n",
       "      <th>7</th>\n",
       "      <td>output/3_3_8_counts_entities_19_Card_Merch_des...</td>\n",
       "      <td>114</td>\n",
       "    </tr>\n",
       "    <tr>\n",
       "      <th>8</th>\n",
       "      <td>output/3_3_1_bf_law.csv</td>\n",
       "      <td>39</td>\n",
       "    </tr>\n",
       "    <tr>\n",
       "      <th>9</th>\n",
       "      <td>output/3_3_5_relative&amp;daysince_vel.csv</td>\n",
       "      <td>248</td>\n",
       "    </tr>\n",
       "    <tr>\n",
       "      <th>10</th>\n",
       "      <td>output/3_3_3_velocity_counts_and_days_since.csv</td>\n",
       "      <td>217</td>\n",
       "    </tr>\n",
       "    <tr>\n",
       "      <th>11</th>\n",
       "      <td>output/3_3_8_counts_entities_18_Card_Merch_num...</td>\n",
       "      <td>114</td>\n",
       "    </tr>\n",
       "    <tr>\n",
       "      <th>12</th>\n",
       "      <td>output/3_3_8_counts_entities_05_Merch_all_info...</td>\n",
       "      <td>114</td>\n",
       "    </tr>\n",
       "    <tr>\n",
       "      <th>13</th>\n",
       "      <td>output/3_3_8_counts_entities_09_Card_Merch_zip...</td>\n",
       "      <td>114</td>\n",
       "    </tr>\n",
       "    <tr>\n",
       "      <th>14</th>\n",
       "      <td>output/3_3_8_counts_entities_12_Card_Merch_num...</td>\n",
       "      <td>114</td>\n",
       "    </tr>\n",
       "    <tr>\n",
       "      <th>15</th>\n",
       "      <td>output/3_3_8_counts_entities_15_Card_Merch_sta...</td>\n",
       "      <td>114</td>\n",
       "    </tr>\n",
       "    <tr>\n",
       "      <th>16</th>\n",
       "      <td>output/3_3_8_counts_entities_02_Merchnum.csv</td>\n",
       "      <td>114</td>\n",
       "    </tr>\n",
       "    <tr>\n",
       "      <th>17</th>\n",
       "      <td>output/3_3_8_counts_entities_20_Card_Merch_all...</td>\n",
       "      <td>114</td>\n",
       "    </tr>\n",
       "    <tr>\n",
       "      <th>18</th>\n",
       "      <td>output/3_3_8_counts_entities_11_Card_Merch_num...</td>\n",
       "      <td>114</td>\n",
       "    </tr>\n",
       "    <tr>\n",
       "      <th>19</th>\n",
       "      <td>output/3_3_8_counts_entities_10_Card_Merch_num...</td>\n",
       "      <td>114</td>\n",
       "    </tr>\n",
       "    <tr>\n",
       "      <th>20</th>\n",
       "      <td>output/3_3_4_amount_var.csv</td>\n",
       "      <td>1489</td>\n",
       "    </tr>\n",
       "    <tr>\n",
       "      <th>21</th>\n",
       "      <td>output/3_3_8_counts_entities_13_Card_Merch_des...</td>\n",
       "      <td>114</td>\n",
       "    </tr>\n",
       "    <tr>\n",
       "      <th>22</th>\n",
       "      <td>output/3_3_8_counts_entities_16_Card_Merch_num...</td>\n",
       "      <td>114</td>\n",
       "    </tr>\n",
       "    <tr>\n",
       "      <th>23</th>\n",
       "      <td>output/3_3_8_counts_entities_04_Merch_num_des.csv</td>\n",
       "      <td>114</td>\n",
       "    </tr>\n",
       "    <tr>\n",
       "      <th>24</th>\n",
       "      <td>output/3_3_8_counts_entities_06_Card_Merchnum.csv</td>\n",
       "      <td>114</td>\n",
       "    </tr>\n",
       "  </tbody>\n",
       "</table>\n",
       "</div>"
      ],
      "text/plain": [
       "                                                  csv  count_var\n",
       "0   output/3_3_8_counts_entities_03_Merch_descript...        114\n",
       "1   output/3_3_8_counts_entities_14_Card_Merch_des...        114\n",
       "2         output/3_3_8_counts_entities_01_Cardnum.csv        114\n",
       "3   output/3_3_8_counts_entities_07_Card_Merch_des...        114\n",
       "4   output/3_3_8_counts_entities_17_Card_Merch_num...        114\n",
       "5                        output/3_3_7_variability.csv        558\n",
       "6   output/3_3_8_counts_entities_08_Card_Merch_sta...        114\n",
       "7   output/3_3_8_counts_entities_19_Card_Merch_des...        114\n",
       "8                             output/3_3_1_bf_law.csv         39\n",
       "9              output/3_3_5_relative&daysince_vel.csv        248\n",
       "10    output/3_3_3_velocity_counts_and_days_since.csv        217\n",
       "11  output/3_3_8_counts_entities_18_Card_Merch_num...        114\n",
       "12  output/3_3_8_counts_entities_05_Merch_all_info...        114\n",
       "13  output/3_3_8_counts_entities_09_Card_Merch_zip...        114\n",
       "14  output/3_3_8_counts_entities_12_Card_Merch_num...        114\n",
       "15  output/3_3_8_counts_entities_15_Card_Merch_sta...        114\n",
       "16       output/3_3_8_counts_entities_02_Merchnum.csv        114\n",
       "17  output/3_3_8_counts_entities_20_Card_Merch_all...        114\n",
       "18  output/3_3_8_counts_entities_11_Card_Merch_num...        114\n",
       "19  output/3_3_8_counts_entities_10_Card_Merch_num...        114\n",
       "20                        output/3_3_4_amount_var.csv       1489\n",
       "21  output/3_3_8_counts_entities_13_Card_Merch_des...        114\n",
       "22  output/3_3_8_counts_entities_16_Card_Merch_num...        114\n",
       "23  output/3_3_8_counts_entities_04_Merch_num_des.csv        114\n",
       "24  output/3_3_8_counts_entities_06_Card_Merchnum.csv        114"
      ]
     },
     "execution_count": 247,
     "metadata": {},
     "output_type": "execute_result"
    }
   ],
   "source": [
    "result = zip(joined_files_3_,count_var)\n",
    "result = pd.DataFrame(result, columns = ['csv','count_var'])\n",
    "result\n",
    "# I forgot remove the attributes from my csv file, they are in '3_3_1_bf_law.csv'\n",
    "# I removed those attributes in dedup"
   ]
  },
  {
   "cell_type": "code",
   "execution_count": null,
   "id": "1bc0b318",
   "metadata": {},
   "outputs": [],
   "source": [
    "# I lose most of the tracing times because of the died kernel\n",
    "# If you rerun the code from the begining successfully, you should get the whole duration here\n",
    "# I have improved my code for those cells that caused my kernel to die in my 8GB RAM Mac\n",
    "# So the notebook should be able to run smoothly\n",
    "\n",
    "# Here is my estimated duration according to my memory:\n",
    "    # 3.3.3  Day Since & Velocity : About 50 mins \n",
    "    # 3.3.4  Velocity and Amount Variables : About 70-80 mins \n",
    "    # 3.3.5  Relative Velocity & Velocity days since ratio: This one is fast, less than 5 mins\n",
    "    # (I deleted the 3.3.6 Frequence because it causes data leakage)\n",
    "    # 3.3.7  Variability: 54 mins\n",
    "    # 3.3.8  Cross entity uniqueness variables 54 mins\n",
    "    \n",
    "# So the total running time should be about 4 hours\n",
    "     \n",
    "\n",
    "print('duration: ',dt.datetime.now() - start_time)"
   ]
  }
 ],
 "metadata": {
  "colab": {
   "provenance": []
  },
  "kernelspec": {
   "display_name": "Python 3 (ipykernel)",
   "language": "python",
   "name": "python3"
  },
  "language_info": {
   "codemirror_mode": {
    "name": "ipython",
    "version": 3
   },
   "file_extension": ".py",
   "mimetype": "text/x-python",
   "name": "python",
   "nbconvert_exporter": "python",
   "pygments_lexer": "ipython3",
   "version": "3.9.7"
  },
  "toc": {
   "base_numbering": 1,
   "nav_menu": {},
   "number_sections": true,
   "sideBar": true,
   "skip_h1_title": false,
   "title_cell": "Table of Contents",
   "title_sidebar": "Contents",
   "toc_cell": false,
   "toc_position": {},
   "toc_section_display": true,
   "toc_window_display": false
  }
 },
 "nbformat": 4,
 "nbformat_minor": 5
}
